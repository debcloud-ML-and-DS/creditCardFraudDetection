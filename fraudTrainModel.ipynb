{
 "cells": [
  {
   "cell_type": "markdown",
   "id": "dental-roller",
   "metadata": {},
   "source": [
    "# Problem Definition\n",
    "A model to recognize Credit Card Transactions Fraud Detection so that customers are not charged for items that they did not purchase.\n",
    "\n",
    "# Evaluation\n",
    "If we are able to reach an accuracy score of 95% and precision, recall and f1 score of 80% then our model is ready to go into production.\n",
    "\n",
    "# Data\n",
    "The dataset was generated using Sparkov Data Generation | Github tool created by Brandon Harris. This simulation was run for the duration - 1 Jan 2019 to 31 Dec 2020. The files were combined and converted into a standard format. By: Kartik Shenoy.\n",
    "\n",
    "The dataset can be found on kaggle by the link provided below (https://www.kaggle.com/kartik2112/fraud-detection?select=fraudTrain.csv).\n",
    "\n",
    "# Features\n",
    "* index - Unique Identifier for each row\n",
    "* transdatetrans_time - Transaction DateTime\n",
    "* cc_num - Credit Card Number of Customer\n",
    "* merchant - Merchant Name\n",
    "* category - Category of Merchant\n",
    "* amt - Amount of Transaction\n",
    "* first - First Name of Credit Card Holder\n",
    "* last - Last Name of Credit Card Holder\n",
    "* gender - Gender of Credit Card Holder\n",
    "* street - Street Address of Credit Card Holder\n",
    "* city - City of Credit Card Holder\n",
    "* state - State of Credit Card Holder\n",
    "* zip - Zip of Credit Card Holder\n",
    "* lat - Latitude Location of Credit Card Holder\n",
    "* long - Longitude Location of Credit Card Holder\n",
    "* city_pop - Credit Card Holder's City Population\n",
    "* job - Job of Credit Card Holder\n",
    "* dob - Date of Birth of Credit Card Holder\n",
    "* trans_num - Transaction Number\n",
    "* unix_time - UNIX Time of transaction\n",
    "* merch_lat - Latitude Location of Merchant\n",
    "* merch_long - Longitude Location of Merchant\n",
    "* is_fraud - Fraud Flag <--- Target Class\n",
    "\n",
    "Information about the Simulator\n",
    "I do not own the simulator. Kartik Shenoy used the one used by Brandon Harris and just to understand how it works, Kartik Shenoy went through few portions of the code. This is what Kartik Shenoy understood from what he read:\n",
    "\n",
    "The simulator has certain pre-defined list of merchants, customers and transaction categories. And then using a python library called \"faker\", and with the number of customers, merchants that Brandon Harris mention during simulation, an intermediate list is created.\n",
    "\n",
    "After this, depending on the profile you choose for e.g. \"adults 2550 female rural.json\" (which means simulation properties of adult females in the age range of 25-50 who are from rural areas), the transactions are created. Say, for this profile, you could check \"Sparkov | Github | adults2550female_rural.json\", there are parameter value ranges defined in terms of min, max transactions per day, distribution of transactions across days of the week and normal distribution properties (mean, standard deviation) for amounts in various categories. Using these measures of distributions, the transactions are generated using faker.\n",
    "\n",
    "What  Kartik Shenoy did was generate transactions across all profiles and then merged them together to create a more realistic representation of simulated transactions. Thanks to  Kartik Shenoy I also have a dataset to work on for fraud detection system."
   ]
  },
  {
   "cell_type": "markdown",
   "id": "violent-simpson",
   "metadata": {},
   "source": [
    "# Getting our tools ready."
   ]
  },
  {
   "cell_type": "code",
   "execution_count": 83,
   "id": "korean-hardwood",
   "metadata": {},
   "outputs": [],
   "source": [
    "#Import neccessary libries\n",
    "import pandas as pd\n",
    "import matplotlib.pyplot as plt\n",
    "import seaborn as sns\n",
    "import numpy as np\n",
    "%matplotlib inline\n",
    "\n",
    "#import scikit learn libries\n",
    "from sklearn.model_selection import train_test_split\n",
    "from sklearn.feature_selection import VarianceThreshold\n",
    "from sklearn.preprocessing import OneHotEncoder\n",
    "from sklearn.compose import ColumnTransformer\n",
    "from sklearn.feature_selection import VarianceThreshold\n",
    "from sklearn.pipeline import Pipeline\n",
    "from sklearn.preprocessing import RobustScaler\n",
    "\n",
    "#Algorithms to build our models\n",
    "from sklearn.linear_model import LogisticRegression\n",
    "from sklearn.neighbors import KNeighborsClassifier\n",
    "from sklearn.tree import DecisionTreeClassifier\n",
    "from sklearn.ensemble import RandomForestClassifier\n",
    "from sklearn.naive_bayes import GaussianNB\n",
    "\n",
    "#Evaluation metrics\n",
    "from sklearn.metrics import confusion_matrix, accuracy_score, \\\n",
    "f1_score, precision_score, recall_score, classification_report\n",
    "from sklearn.model_selection import cross_val_score\n",
    "\n",
    "#Import other libries\n",
    "import pickle"
   ]
  },
  {
   "cell_type": "markdown",
   "id": "correct-district",
   "metadata": {},
   "source": [
    "# Exploratory data analysis(getting our data ready)"
   ]
  },
  {
   "cell_type": "code",
   "execution_count": 88,
   "id": "terminal-moment",
   "metadata": {},
   "outputs": [
    {
     "data": {
      "text/html": [
       "<div>\n",
       "<style scoped>\n",
       "    .dataframe tbody tr th:only-of-type {\n",
       "        vertical-align: middle;\n",
       "    }\n",
       "\n",
       "    .dataframe tbody tr th {\n",
       "        vertical-align: top;\n",
       "    }\n",
       "\n",
       "    .dataframe thead th {\n",
       "        text-align: right;\n",
       "    }\n",
       "</style>\n",
       "<table border=\"1\" class=\"dataframe\">\n",
       "  <thead>\n",
       "    <tr style=\"text-align: right;\">\n",
       "      <th></th>\n",
       "      <th>Unnamed: 0</th>\n",
       "      <th>trans_date_trans_time</th>\n",
       "      <th>cc_num</th>\n",
       "      <th>merchant</th>\n",
       "      <th>category</th>\n",
       "      <th>amt</th>\n",
       "      <th>first</th>\n",
       "      <th>last</th>\n",
       "      <th>gender</th>\n",
       "      <th>street</th>\n",
       "      <th>...</th>\n",
       "      <th>lat</th>\n",
       "      <th>long</th>\n",
       "      <th>city_pop</th>\n",
       "      <th>job</th>\n",
       "      <th>dob</th>\n",
       "      <th>trans_num</th>\n",
       "      <th>unix_time</th>\n",
       "      <th>merch_lat</th>\n",
       "      <th>merch_long</th>\n",
       "      <th>is_fraud</th>\n",
       "    </tr>\n",
       "  </thead>\n",
       "  <tbody>\n",
       "    <tr>\n",
       "      <th>0</th>\n",
       "      <td>0</td>\n",
       "      <td>2019-01-01 00:00:18</td>\n",
       "      <td>2703186189652095</td>\n",
       "      <td>fraud_Rippin, Kub and Mann</td>\n",
       "      <td>misc_net</td>\n",
       "      <td>4.97</td>\n",
       "      <td>Jennifer</td>\n",
       "      <td>Banks</td>\n",
       "      <td>F</td>\n",
       "      <td>561 Perry Cove</td>\n",
       "      <td>...</td>\n",
       "      <td>36.0788</td>\n",
       "      <td>-81.1781</td>\n",
       "      <td>3495</td>\n",
       "      <td>Psychologist, counselling</td>\n",
       "      <td>1988-03-09</td>\n",
       "      <td>0b242abb623afc578575680df30655b9</td>\n",
       "      <td>1325376018</td>\n",
       "      <td>36.011293</td>\n",
       "      <td>-82.048315</td>\n",
       "      <td>0</td>\n",
       "    </tr>\n",
       "    <tr>\n",
       "      <th>1</th>\n",
       "      <td>1</td>\n",
       "      <td>2019-01-01 00:00:44</td>\n",
       "      <td>630423337322</td>\n",
       "      <td>fraud_Heller, Gutmann and Zieme</td>\n",
       "      <td>grocery_pos</td>\n",
       "      <td>107.23</td>\n",
       "      <td>Stephanie</td>\n",
       "      <td>Gill</td>\n",
       "      <td>F</td>\n",
       "      <td>43039 Riley Greens Suite 393</td>\n",
       "      <td>...</td>\n",
       "      <td>48.8878</td>\n",
       "      <td>-118.2105</td>\n",
       "      <td>149</td>\n",
       "      <td>Special educational needs teacher</td>\n",
       "      <td>1978-06-21</td>\n",
       "      <td>1f76529f8574734946361c461b024d99</td>\n",
       "      <td>1325376044</td>\n",
       "      <td>49.159047</td>\n",
       "      <td>-118.186462</td>\n",
       "      <td>0</td>\n",
       "    </tr>\n",
       "  </tbody>\n",
       "</table>\n",
       "<p>2 rows × 23 columns</p>\n",
       "</div>"
      ],
      "text/plain": [
       "   Unnamed: 0 trans_date_trans_time            cc_num  \\\n",
       "0           0   2019-01-01 00:00:18  2703186189652095   \n",
       "1           1   2019-01-01 00:00:44      630423337322   \n",
       "\n",
       "                          merchant     category     amt      first   last  \\\n",
       "0       fraud_Rippin, Kub and Mann     misc_net    4.97   Jennifer  Banks   \n",
       "1  fraud_Heller, Gutmann and Zieme  grocery_pos  107.23  Stephanie   Gill   \n",
       "\n",
       "  gender                        street  ...      lat      long  city_pop  \\\n",
       "0      F                561 Perry Cove  ...  36.0788  -81.1781      3495   \n",
       "1      F  43039 Riley Greens Suite 393  ...  48.8878 -118.2105       149   \n",
       "\n",
       "                                 job         dob  \\\n",
       "0          Psychologist, counselling  1988-03-09   \n",
       "1  Special educational needs teacher  1978-06-21   \n",
       "\n",
       "                          trans_num   unix_time  merch_lat  merch_long  \\\n",
       "0  0b242abb623afc578575680df30655b9  1325376018  36.011293  -82.048315   \n",
       "1  1f76529f8574734946361c461b024d99  1325376044  49.159047 -118.186462   \n",
       "\n",
       "   is_fraud  \n",
       "0         0  \n",
       "1         0  \n",
       "\n",
       "[2 rows x 23 columns]"
      ]
     },
     "execution_count": 88,
     "metadata": {},
     "output_type": "execute_result"
    }
   ],
   "source": [
    "#import our data\n",
    "fraud_train = pd.read_csv(\"data/fraudTrain.csv\", nrows=10000, na_values=\"?\") #Taking 10000 samples\n",
    "\n",
    "#display some part of the dataset\n",
    "fraud_train.head(2)"
   ]
  },
  {
   "cell_type": "code",
   "execution_count": 3,
   "id": "satisfactory-trick",
   "metadata": {},
   "outputs": [
    {
     "name": "stdout",
     "output_type": "stream",
     "text": [
      "The lenght of the dataset is 10000\n"
     ]
    }
   ],
   "source": [
    "#Check the lenght of the dataset\n",
    "print(f\"The lenght of the dataset is {len(fraud_train)}\")"
   ]
  },
  {
   "cell_type": "code",
   "execution_count": 4,
   "id": "welcome-microwave",
   "metadata": {},
   "outputs": [
    {
     "data": {
      "text/plain": [
       "(10000, 23)"
      ]
     },
     "execution_count": 4,
     "metadata": {},
     "output_type": "execute_result"
    }
   ],
   "source": [
    "#Check both the total number of rows and columns\n",
    "fraud_train.shape"
   ]
  },
  {
   "cell_type": "markdown",
   "id": "casual-calcium",
   "metadata": {},
   "source": [
    "The above dataset have a row of **10000** and a column of **23**. Let's keep on exploring the dataset."
   ]
  },
  {
   "cell_type": "code",
   "execution_count": 5,
   "id": "immediate-valuation",
   "metadata": {},
   "outputs": [
    {
     "name": "stdout",
     "output_type": "stream",
     "text": [
      "<class 'pandas.core.frame.DataFrame'>\n",
      "RangeIndex: 10000 entries, 0 to 9999\n",
      "Data columns (total 23 columns):\n",
      " #   Column                 Non-Null Count  Dtype  \n",
      "---  ------                 --------------  -----  \n",
      " 0   Unnamed: 0             10000 non-null  int64  \n",
      " 1   trans_date_trans_time  10000 non-null  object \n",
      " 2   cc_num                 10000 non-null  int64  \n",
      " 3   merchant               10000 non-null  object \n",
      " 4   category               10000 non-null  object \n",
      " 5   amt                    10000 non-null  float64\n",
      " 6   first                  10000 non-null  object \n",
      " 7   last                   10000 non-null  object \n",
      " 8   gender                 10000 non-null  object \n",
      " 9   street                 10000 non-null  object \n",
      " 10  city                   10000 non-null  object \n",
      " 11  state                  10000 non-null  object \n",
      " 12  zip                    10000 non-null  int64  \n",
      " 13  lat                    10000 non-null  float64\n",
      " 14  long                   10000 non-null  float64\n",
      " 15  city_pop               10000 non-null  int64  \n",
      " 16  job                    10000 non-null  object \n",
      " 17  dob                    10000 non-null  object \n",
      " 18  trans_num              10000 non-null  object \n",
      " 19  unix_time              10000 non-null  int64  \n",
      " 20  merch_lat              10000 non-null  float64\n",
      " 21  merch_long             10000 non-null  float64\n",
      " 22  is_fraud               10000 non-null  int64  \n",
      "dtypes: float64(5), int64(6), object(12)\n",
      "memory usage: 1.8+ MB\n"
     ]
    }
   ],
   "source": [
    "#Display dataset metadata\n",
    "fraud_train.info()"
   ]
  },
  {
   "cell_type": "markdown",
   "id": "affected-stage",
   "metadata": {},
   "source": [
    "from the above provided information, the dataset contains categorical features, does not contain null values and some column names are also unkmown. We change the names of some of the unknown features and also drop those which are not relevant. Let's continue to explore our dataset."
   ]
  },
  {
   "cell_type": "code",
   "execution_count": 6,
   "id": "leading-bhutan",
   "metadata": {},
   "outputs": [
    {
     "data": {
      "text/plain": [
       "0    9953\n",
       "1      47\n",
       "Name: is_fraud, dtype: int64"
      ]
     },
     "execution_count": 6,
     "metadata": {},
     "output_type": "execute_result"
    }
   ],
   "source": [
    "#Display total number of each dataset inside is_fraud feature\n",
    "fraud_train['is_fraud'].value_counts()"
   ]
  },
  {
   "cell_type": "code",
   "execution_count": 7,
   "id": "affected-classroom",
   "metadata": {},
   "outputs": [
    {
     "data": {
      "image/png": "[encoded data removed]",
      "text/plain": [
       "<Figure size 432x288 with 1 Axes>"
      ]
     },
     "metadata": {
      "needs_background": "light"
     },
     "output_type": "display_data"
    },
    {
     "name": "stdout",
     "output_type": "stream",
     "text": [
      "The difference between not fraud and fraud equals 9906\n"
     ]
    }
   ],
   "source": [
    "#Virsualize the value counts\n",
    "fraud_train['is_fraud'].value_counts().T.plot(kind='bar', color=[\"blue\",\"red\"])\n",
    "\n",
    "plt.show()\n",
    "print(f\"The difference between not fraud and fraud equals {9953 - 47}\")"
   ]
  },
  {
   "cell_type": "code",
   "execution_count": 8,
   "id": "acceptable-nightmare",
   "metadata": {},
   "outputs": [
    {
     "data": {
      "image/png": "[encoded data removed]",
      "text/plain": [
       "<Figure size 432x288 with 1 Axes>"
      ]
     },
     "metadata": {},
     "output_type": "display_data"
    },
    {
     "name": "stdout",
     "output_type": "stream",
     "text": [
      "The difference between not fraud and fraud equals 9906\n"
     ]
    }
   ],
   "source": [
    "fraud_train['is_fraud'].value_counts().T.plot(kind='pie')\n",
    "plt.show()\n",
    "print(f\"The difference between not fraud and fraud equals {9953 - 47}\")"
   ]
  },
  {
   "cell_type": "markdown",
   "id": "induced-revision",
   "metadata": {},
   "source": [
    "From the above graphs and the value counts, the difference between the fraud and not fraud is 9906. The fraud transactions are less than transactions which are not fraud. Also the difference between them is very high. This means the dataset is imbalanced. We can deal with imbalanced dataset using uder_sampling, over_sampling and BalancedRandomForestClassifier depending on the type of data we're working on. But we won't use the above techniques, rather we will use **stratify=y** which is found in scikit learn train_test_split when we're splitting our datasets into trainning and testing."
   ]
  },
  {
   "cell_type": "code",
   "execution_count": 9,
   "id": "incredible-offset",
   "metadata": {},
   "outputs": [
    {
     "data": {
      "text/html": [
       "<div>\n",
       "<style scoped>\n",
       "    .dataframe tbody tr th:only-of-type {\n",
       "        vertical-align: middle;\n",
       "    }\n",
       "\n",
       "    .dataframe tbody tr th {\n",
       "        vertical-align: top;\n",
       "    }\n",
       "\n",
       "    .dataframe thead th {\n",
       "        text-align: right;\n",
       "    }\n",
       "</style>\n",
       "<table border=\"1\" class=\"dataframe\">\n",
       "  <thead>\n",
       "    <tr style=\"text-align: right;\">\n",
       "      <th></th>\n",
       "      <th>Unnamed: 0</th>\n",
       "      <th>trans_date_trans_time</th>\n",
       "      <th>cc_num</th>\n",
       "      <th>merchant</th>\n",
       "      <th>category</th>\n",
       "      <th>amt</th>\n",
       "      <th>first</th>\n",
       "      <th>last</th>\n",
       "      <th>gender</th>\n",
       "      <th>street</th>\n",
       "      <th>...</th>\n",
       "      <th>lat</th>\n",
       "      <th>long</th>\n",
       "      <th>city_pop</th>\n",
       "      <th>job</th>\n",
       "      <th>dob</th>\n",
       "      <th>trans_num</th>\n",
       "      <th>unix_time</th>\n",
       "      <th>merch_lat</th>\n",
       "      <th>merch_long</th>\n",
       "      <th>is_fraud</th>\n",
       "    </tr>\n",
       "  </thead>\n",
       "  <tbody>\n",
       "    <tr>\n",
       "      <th>9997</th>\n",
       "      <td>9997</td>\n",
       "      <td>2019-01-07 03:53:12</td>\n",
       "      <td>4689147265057948423</td>\n",
       "      <td>fraud_Dooley Inc</td>\n",
       "      <td>shopping_pos</td>\n",
       "      <td>5.71</td>\n",
       "      <td>Steven</td>\n",
       "      <td>Brooks</td>\n",
       "      <td>M</td>\n",
       "      <td>2622 Reynolds Isle</td>\n",
       "      <td>...</td>\n",
       "      <td>40.9207</td>\n",
       "      <td>-96.1680</td>\n",
       "      <td>206</td>\n",
       "      <td>Human resources officer</td>\n",
       "      <td>1967-10-04</td>\n",
       "      <td>bd13638cdbdd8c0fc68362f8a9653a68</td>\n",
       "      <td>1325908392</td>\n",
       "      <td>40.633368</td>\n",
       "      <td>-96.595273</td>\n",
       "      <td>0</td>\n",
       "    </tr>\n",
       "    <tr>\n",
       "      <th>9998</th>\n",
       "      <td>9998</td>\n",
       "      <td>2019-01-07 03:53:51</td>\n",
       "      <td>373905417449658</td>\n",
       "      <td>fraud_Schamberger-O'Keefe</td>\n",
       "      <td>grocery_pos</td>\n",
       "      <td>231.45</td>\n",
       "      <td>Sarah</td>\n",
       "      <td>Bishop</td>\n",
       "      <td>F</td>\n",
       "      <td>554 Mcdonald Valley Apt. 539</td>\n",
       "      <td>...</td>\n",
       "      <td>31.9290</td>\n",
       "      <td>-97.6443</td>\n",
       "      <td>2526</td>\n",
       "      <td>Phytotherapist</td>\n",
       "      <td>1970-11-12</td>\n",
       "      <td>18a1437e003f662dfe1c3d58050ae692</td>\n",
       "      <td>1325908431</td>\n",
       "      <td>32.807117</td>\n",
       "      <td>-98.639187</td>\n",
       "      <td>0</td>\n",
       "    </tr>\n",
       "    <tr>\n",
       "      <th>9999</th>\n",
       "      <td>9999</td>\n",
       "      <td>2019-01-07 03:53:54</td>\n",
       "      <td>3556613125071656</td>\n",
       "      <td>fraud_Strosin-Cruickshank</td>\n",
       "      <td>grocery_pos</td>\n",
       "      <td>49.49</td>\n",
       "      <td>Jose</td>\n",
       "      <td>Vasquez</td>\n",
       "      <td>M</td>\n",
       "      <td>572 Davis Mountains</td>\n",
       "      <td>...</td>\n",
       "      <td>29.0393</td>\n",
       "      <td>-95.4401</td>\n",
       "      <td>28739</td>\n",
       "      <td>Futures trader</td>\n",
       "      <td>1999-12-27</td>\n",
       "      <td>9085c17e4e64b08d4651ad37e254a003</td>\n",
       "      <td>1325908434</td>\n",
       "      <td>29.378479</td>\n",
       "      <td>-95.406067</td>\n",
       "      <td>0</td>\n",
       "    </tr>\n",
       "  </tbody>\n",
       "</table>\n",
       "<p>3 rows × 23 columns</p>\n",
       "</div>"
      ],
      "text/plain": [
       "      Unnamed: 0 trans_date_trans_time               cc_num  \\\n",
       "9997        9997   2019-01-07 03:53:12  4689147265057948423   \n",
       "9998        9998   2019-01-07 03:53:51      373905417449658   \n",
       "9999        9999   2019-01-07 03:53:54     3556613125071656   \n",
       "\n",
       "                       merchant      category     amt   first     last gender  \\\n",
       "9997           fraud_Dooley Inc  shopping_pos    5.71  Steven   Brooks      M   \n",
       "9998  fraud_Schamberger-O'Keefe   grocery_pos  231.45   Sarah   Bishop      F   \n",
       "9999  fraud_Strosin-Cruickshank   grocery_pos   49.49    Jose  Vasquez      M   \n",
       "\n",
       "                            street  ...      lat     long  city_pop  \\\n",
       "9997            2622 Reynolds Isle  ...  40.9207 -96.1680       206   \n",
       "9998  554 Mcdonald Valley Apt. 539  ...  31.9290 -97.6443      2526   \n",
       "9999           572 Davis Mountains  ...  29.0393 -95.4401     28739   \n",
       "\n",
       "                          job         dob                         trans_num  \\\n",
       "9997  Human resources officer  1967-10-04  bd13638cdbdd8c0fc68362f8a9653a68   \n",
       "9998           Phytotherapist  1970-11-12  18a1437e003f662dfe1c3d58050ae692   \n",
       "9999           Futures trader  1999-12-27  9085c17e4e64b08d4651ad37e254a003   \n",
       "\n",
       "       unix_time  merch_lat merch_long  is_fraud  \n",
       "9997  1325908392  40.633368 -96.595273         0  \n",
       "9998  1325908431  32.807117 -98.639187         0  \n",
       "9999  1325908434  29.378479 -95.406067         0  \n",
       "\n",
       "[3 rows x 23 columns]"
      ]
     },
     "execution_count": 9,
     "metadata": {},
     "output_type": "execute_result"
    }
   ],
   "source": [
    "#Lets display the last three values of our dataset\n",
    "fraud_train.tail(3)"
   ]
  },
  {
   "cell_type": "markdown",
   "id": "swiss-letters",
   "metadata": {},
   "source": [
    "Before we continue exploring our dataset lets drop the column \"`unknown: 0\"`. This is because it will not add any functionality in our model training. Its basically an index that got exported when exporting the dataset and may also slow down our model training."
   ]
  },
  {
   "cell_type": "code",
   "execution_count": 10,
   "id": "grave-shock",
   "metadata": {},
   "outputs": [],
   "source": [
    "#Drop column unnamed\n",
    "fraud_train.drop('Unnamed: 0', axis=1, inplace=True)"
   ]
  },
  {
   "cell_type": "code",
   "execution_count": 11,
   "id": "stainless-president",
   "metadata": {},
   "outputs": [
    {
     "data": {
      "text/plain": [
       "Index(['trans_date_trans_time', 'cc_num', 'merchant', 'category', 'amt',\n",
       "       'first', 'last', 'gender', 'street', 'city', 'state', 'zip', 'lat',\n",
       "       'long', 'city_pop', 'job', 'dob', 'trans_num', 'unix_time', 'merch_lat',\n",
       "       'merch_long', 'is_fraud'],\n",
       "      dtype='object')"
      ]
     },
     "execution_count": 11,
     "metadata": {},
     "output_type": "execute_result"
    }
   ],
   "source": [
    "#Confirmed droped column\n",
    "fraud_train.columns"
   ]
  },
  {
   "cell_type": "code",
   "execution_count": 12,
   "id": "educated-quantity",
   "metadata": {},
   "outputs": [
    {
     "data": {
      "text/html": [
       "<div>\n",
       "<style scoped>\n",
       "    .dataframe tbody tr th:only-of-type {\n",
       "        vertical-align: middle;\n",
       "    }\n",
       "\n",
       "    .dataframe tbody tr th {\n",
       "        vertical-align: top;\n",
       "    }\n",
       "\n",
       "    .dataframe thead th {\n",
       "        text-align: right;\n",
       "    }\n",
       "</style>\n",
       "<table border=\"1\" class=\"dataframe\">\n",
       "  <thead>\n",
       "    <tr style=\"text-align: right;\">\n",
       "      <th></th>\n",
       "      <th>cc_num</th>\n",
       "      <th>amt</th>\n",
       "      <th>zip</th>\n",
       "      <th>lat</th>\n",
       "      <th>long</th>\n",
       "      <th>city_pop</th>\n",
       "      <th>unix_time</th>\n",
       "      <th>merch_lat</th>\n",
       "      <th>merch_long</th>\n",
       "      <th>is_fraud</th>\n",
       "    </tr>\n",
       "  </thead>\n",
       "  <tbody>\n",
       "    <tr>\n",
       "      <th>count</th>\n",
       "      <td>1.000000e+04</td>\n",
       "      <td>10000.000000</td>\n",
       "      <td>10000.000000</td>\n",
       "      <td>10000.000000</td>\n",
       "      <td>10000.000000</td>\n",
       "      <td>1.000000e+04</td>\n",
       "      <td>1.000000e+04</td>\n",
       "      <td>10000.000000</td>\n",
       "      <td>10000.000000</td>\n",
       "      <td>10000.000000</td>\n",
       "    </tr>\n",
       "    <tr>\n",
       "      <th>mean</th>\n",
       "      <td>4.240166e+17</td>\n",
       "      <td>68.413486</td>\n",
       "      <td>49325.435300</td>\n",
       "      <td>38.593693</td>\n",
       "      <td>-90.617579</td>\n",
       "      <td>8.985338e+04</td>\n",
       "      <td>1.325645e+09</td>\n",
       "      <td>38.593578</td>\n",
       "      <td>-90.608638</td>\n",
       "      <td>0.004700</td>\n",
       "    </tr>\n",
       "    <tr>\n",
       "      <th>std</th>\n",
       "      <td>1.318553e+18</td>\n",
       "      <td>111.527924</td>\n",
       "      <td>27188.598694</td>\n",
       "      <td>5.180796</td>\n",
       "      <td>14.458799</td>\n",
       "      <td>3.001198e+05</td>\n",
       "      <td>1.679003e+05</td>\n",
       "      <td>5.209553</td>\n",
       "      <td>14.476713</td>\n",
       "      <td>0.068399</td>\n",
       "    </tr>\n",
       "    <tr>\n",
       "      <th>min</th>\n",
       "      <td>6.041621e+10</td>\n",
       "      <td>1.010000</td>\n",
       "      <td>1257.000000</td>\n",
       "      <td>20.027100</td>\n",
       "      <td>-165.672300</td>\n",
       "      <td>2.300000e+01</td>\n",
       "      <td>1.325376e+09</td>\n",
       "      <td>19.165823</td>\n",
       "      <td>-166.550779</td>\n",
       "      <td>0.000000</td>\n",
       "    </tr>\n",
       "    <tr>\n",
       "      <th>25%</th>\n",
       "      <td>1.800365e+14</td>\n",
       "      <td>9.690000</td>\n",
       "      <td>25832.000000</td>\n",
       "      <td>34.778900</td>\n",
       "      <td>-97.171400</td>\n",
       "      <td>7.410000e+02</td>\n",
       "      <td>1.325472e+09</td>\n",
       "      <td>34.847390</td>\n",
       "      <td>-97.224395</td>\n",
       "      <td>0.000000</td>\n",
       "    </tr>\n",
       "    <tr>\n",
       "      <th>50%</th>\n",
       "      <td>3.520550e+15</td>\n",
       "      <td>48.675000</td>\n",
       "      <td>48438.000000</td>\n",
       "      <td>39.383200</td>\n",
       "      <td>-87.724600</td>\n",
       "      <td>2.398000e+03</td>\n",
       "      <td>1.325654e+09</td>\n",
       "      <td>39.370857</td>\n",
       "      <td>-87.664080</td>\n",
       "      <td>0.000000</td>\n",
       "    </tr>\n",
       "    <tr>\n",
       "      <th>75%</th>\n",
       "      <td>4.657269e+15</td>\n",
       "      <td>83.092500</td>\n",
       "      <td>72341.000000</td>\n",
       "      <td>41.846700</td>\n",
       "      <td>-80.128400</td>\n",
       "      <td>1.909000e+04</td>\n",
       "      <td>1.325801e+09</td>\n",
       "      <td>41.899369</td>\n",
       "      <td>-80.181638</td>\n",
       "      <td>0.000000</td>\n",
       "    </tr>\n",
       "    <tr>\n",
       "      <th>max</th>\n",
       "      <td>4.992346e+18</td>\n",
       "      <td>3178.510000</td>\n",
       "      <td>99783.000000</td>\n",
       "      <td>65.689900</td>\n",
       "      <td>-67.950300</td>\n",
       "      <td>2.906700e+06</td>\n",
       "      <td>1.325908e+09</td>\n",
       "      <td>66.645176</td>\n",
       "      <td>-66.967742</td>\n",
       "      <td>1.000000</td>\n",
       "    </tr>\n",
       "  </tbody>\n",
       "</table>\n",
       "</div>"
      ],
      "text/plain": [
       "             cc_num           amt           zip           lat          long  \\\n",
       "count  1.000000e+04  10000.000000  10000.000000  10000.000000  10000.000000   \n",
       "mean   4.240166e+17     68.413486  49325.435300     38.593693    -90.617579   \n",
       "std    1.318553e+18    111.527924  27188.598694      5.180796     14.458799   \n",
       "min    6.041621e+10      1.010000   1257.000000     20.027100   -165.672300   \n",
       "25%    1.800365e+14      9.690000  25832.000000     34.778900    -97.171400   \n",
       "50%    3.520550e+15     48.675000  48438.000000     39.383200    -87.724600   \n",
       "75%    4.657269e+15     83.092500  72341.000000     41.846700    -80.128400   \n",
       "max    4.992346e+18   3178.510000  99783.000000     65.689900    -67.950300   \n",
       "\n",
       "           city_pop     unix_time     merch_lat    merch_long      is_fraud  \n",
       "count  1.000000e+04  1.000000e+04  10000.000000  10000.000000  10000.000000  \n",
       "mean   8.985338e+04  1.325645e+09     38.593578    -90.608638      0.004700  \n",
       "std    3.001198e+05  1.679003e+05      5.209553     14.476713      0.068399  \n",
       "min    2.300000e+01  1.325376e+09     19.165823   -166.550779      0.000000  \n",
       "25%    7.410000e+02  1.325472e+09     34.847390    -97.224395      0.000000  \n",
       "50%    2.398000e+03  1.325654e+09     39.370857    -87.664080      0.000000  \n",
       "75%    1.909000e+04  1.325801e+09     41.899369    -80.181638      0.000000  \n",
       "max    2.906700e+06  1.325908e+09     66.645176    -66.967742      1.000000  "
      ]
     },
     "execution_count": 12,
     "metadata": {},
     "output_type": "execute_result"
    }
   ],
   "source": [
    "#Lets check for the min and max value of each column\n",
    "fraud_train.describe()"
   ]
  },
  {
   "cell_type": "markdown",
   "id": "sealed-characteristic",
   "metadata": {},
   "source": [
    "## From the above dataset, the column:\n",
    "* **amt** has a min value of **1.0** and max value of **12788.070000**.\n",
    "* **zip** has a min value of **1257.00000** and max value of **99783.00000**.\n",
    "* **merch_lat** has a min value of **19.042510** and max value of **66.659**.\n",
    "When you look close to the others, their minimum value is very low and have a higher max value. This means there is a greate outlier in this dataset.\n",
    "## Note: \n",
    "Not all outliers are outliers depending on the use case. We should know that we are dealing with a fraud detection system on a credit card were every part of the data is very important. Hence we wont be dropping any outliers in our datasets."
   ]
  },
  {
   "cell_type": "code",
   "execution_count": 13,
   "id": "average-monday",
   "metadata": {},
   "outputs": [
    {
     "data": {
      "text/html": [
       "<div>\n",
       "<style scoped>\n",
       "    .dataframe tbody tr th:only-of-type {\n",
       "        vertical-align: middle;\n",
       "    }\n",
       "\n",
       "    .dataframe tbody tr th {\n",
       "        vertical-align: top;\n",
       "    }\n",
       "\n",
       "    .dataframe thead th {\n",
       "        text-align: right;\n",
       "    }\n",
       "</style>\n",
       "<table border=\"1\" class=\"dataframe\">\n",
       "  <thead>\n",
       "    <tr style=\"text-align: right;\">\n",
       "      <th></th>\n",
       "      <th>trans_date_trans_time</th>\n",
       "      <th>cc_num</th>\n",
       "      <th>merchant</th>\n",
       "      <th>category</th>\n",
       "      <th>amt</th>\n",
       "      <th>first</th>\n",
       "      <th>last</th>\n",
       "      <th>gender</th>\n",
       "      <th>street</th>\n",
       "      <th>city</th>\n",
       "      <th>...</th>\n",
       "      <th>lat</th>\n",
       "      <th>long</th>\n",
       "      <th>city_pop</th>\n",
       "      <th>job</th>\n",
       "      <th>dob</th>\n",
       "      <th>trans_num</th>\n",
       "      <th>unix_time</th>\n",
       "      <th>merch_lat</th>\n",
       "      <th>merch_long</th>\n",
       "      <th>is_fraud</th>\n",
       "    </tr>\n",
       "  </thead>\n",
       "  <tbody>\n",
       "    <tr>\n",
       "      <th>0</th>\n",
       "      <td>2019-01-01 00:00:18</td>\n",
       "      <td>2703186189652095</td>\n",
       "      <td>fraud_Rippin, Kub and Mann</td>\n",
       "      <td>misc_net</td>\n",
       "      <td>4.97</td>\n",
       "      <td>Jennifer</td>\n",
       "      <td>Banks</td>\n",
       "      <td>F</td>\n",
       "      <td>561 Perry Cove</td>\n",
       "      <td>Moravian Falls</td>\n",
       "      <td>...</td>\n",
       "      <td>36.0788</td>\n",
       "      <td>-81.1781</td>\n",
       "      <td>3495</td>\n",
       "      <td>Psychologist, counselling</td>\n",
       "      <td>1988-03-09</td>\n",
       "      <td>0b242abb623afc578575680df30655b9</td>\n",
       "      <td>1325376018</td>\n",
       "      <td>36.011293</td>\n",
       "      <td>-82.048315</td>\n",
       "      <td>0</td>\n",
       "    </tr>\n",
       "    <tr>\n",
       "      <th>1</th>\n",
       "      <td>2019-01-01 00:00:44</td>\n",
       "      <td>630423337322</td>\n",
       "      <td>fraud_Heller, Gutmann and Zieme</td>\n",
       "      <td>grocery_pos</td>\n",
       "      <td>107.23</td>\n",
       "      <td>Stephanie</td>\n",
       "      <td>Gill</td>\n",
       "      <td>F</td>\n",
       "      <td>43039 Riley Greens Suite 393</td>\n",
       "      <td>Orient</td>\n",
       "      <td>...</td>\n",
       "      <td>48.8878</td>\n",
       "      <td>-118.2105</td>\n",
       "      <td>149</td>\n",
       "      <td>Special educational needs teacher</td>\n",
       "      <td>1978-06-21</td>\n",
       "      <td>1f76529f8574734946361c461b024d99</td>\n",
       "      <td>1325376044</td>\n",
       "      <td>49.159047</td>\n",
       "      <td>-118.186462</td>\n",
       "      <td>0</td>\n",
       "    </tr>\n",
       "  </tbody>\n",
       "</table>\n",
       "<p>2 rows × 22 columns</p>\n",
       "</div>"
      ],
      "text/plain": [
       "  trans_date_trans_time            cc_num                         merchant  \\\n",
       "0   2019-01-01 00:00:18  2703186189652095       fraud_Rippin, Kub and Mann   \n",
       "1   2019-01-01 00:00:44      630423337322  fraud_Heller, Gutmann and Zieme   \n",
       "\n",
       "      category     amt      first   last gender                        street  \\\n",
       "0     misc_net    4.97   Jennifer  Banks      F                561 Perry Cove   \n",
       "1  grocery_pos  107.23  Stephanie   Gill      F  43039 Riley Greens Suite 393   \n",
       "\n",
       "             city  ...      lat      long  city_pop  \\\n",
       "0  Moravian Falls  ...  36.0788  -81.1781      3495   \n",
       "1          Orient  ...  48.8878 -118.2105       149   \n",
       "\n",
       "                                 job         dob  \\\n",
       "0          Psychologist, counselling  1988-03-09   \n",
       "1  Special educational needs teacher  1978-06-21   \n",
       "\n",
       "                          trans_num   unix_time  merch_lat  merch_long  \\\n",
       "0  0b242abb623afc578575680df30655b9  1325376018  36.011293  -82.048315   \n",
       "1  1f76529f8574734946361c461b024d99  1325376044  49.159047 -118.186462   \n",
       "\n",
       "   is_fraud  \n",
       "0         0  \n",
       "1         0  \n",
       "\n",
       "[2 rows x 22 columns]"
      ]
     },
     "execution_count": 13,
     "metadata": {},
     "output_type": "execute_result"
    }
   ],
   "source": [
    "fraud_train.head(2)"
   ]
  },
  {
   "cell_type": "code",
   "execution_count": 14,
   "id": "serial-homeless",
   "metadata": {},
   "outputs": [],
   "source": [
    "#Let's split our dataset into features and labels\n",
    "x=fraud_train.drop('is_fraud', axis=1)\n",
    "y=fraud_train['is_fraud']"
   ]
  },
  {
   "cell_type": "code",
   "execution_count": 15,
   "id": "respected-library",
   "metadata": {},
   "outputs": [
    {
     "data": {
      "text/html": [
       "<div>\n",
       "<style scoped>\n",
       "    .dataframe tbody tr th:only-of-type {\n",
       "        vertical-align: middle;\n",
       "    }\n",
       "\n",
       "    .dataframe tbody tr th {\n",
       "        vertical-align: top;\n",
       "    }\n",
       "\n",
       "    .dataframe thead th {\n",
       "        text-align: right;\n",
       "    }\n",
       "</style>\n",
       "<table border=\"1\" class=\"dataframe\">\n",
       "  <thead>\n",
       "    <tr style=\"text-align: right;\">\n",
       "      <th></th>\n",
       "      <th>trans_date_trans_time</th>\n",
       "      <th>cc_num</th>\n",
       "      <th>merchant</th>\n",
       "      <th>category</th>\n",
       "      <th>amt</th>\n",
       "      <th>first</th>\n",
       "      <th>last</th>\n",
       "      <th>gender</th>\n",
       "      <th>street</th>\n",
       "      <th>city</th>\n",
       "      <th>...</th>\n",
       "      <th>zip</th>\n",
       "      <th>lat</th>\n",
       "      <th>long</th>\n",
       "      <th>city_pop</th>\n",
       "      <th>job</th>\n",
       "      <th>dob</th>\n",
       "      <th>trans_num</th>\n",
       "      <th>unix_time</th>\n",
       "      <th>merch_lat</th>\n",
       "      <th>merch_long</th>\n",
       "    </tr>\n",
       "  </thead>\n",
       "  <tbody>\n",
       "    <tr>\n",
       "      <th>0</th>\n",
       "      <td>2019-01-01 00:00:18</td>\n",
       "      <td>2703186189652095</td>\n",
       "      <td>fraud_Rippin, Kub and Mann</td>\n",
       "      <td>misc_net</td>\n",
       "      <td>4.97</td>\n",
       "      <td>Jennifer</td>\n",
       "      <td>Banks</td>\n",
       "      <td>F</td>\n",
       "      <td>561 Perry Cove</td>\n",
       "      <td>Moravian Falls</td>\n",
       "      <td>...</td>\n",
       "      <td>28654</td>\n",
       "      <td>36.0788</td>\n",
       "      <td>-81.1781</td>\n",
       "      <td>3495</td>\n",
       "      <td>Psychologist, counselling</td>\n",
       "      <td>1988-03-09</td>\n",
       "      <td>0b242abb623afc578575680df30655b9</td>\n",
       "      <td>1325376018</td>\n",
       "      <td>36.011293</td>\n",
       "      <td>-82.048315</td>\n",
       "    </tr>\n",
       "    <tr>\n",
       "      <th>1</th>\n",
       "      <td>2019-01-01 00:00:44</td>\n",
       "      <td>630423337322</td>\n",
       "      <td>fraud_Heller, Gutmann and Zieme</td>\n",
       "      <td>grocery_pos</td>\n",
       "      <td>107.23</td>\n",
       "      <td>Stephanie</td>\n",
       "      <td>Gill</td>\n",
       "      <td>F</td>\n",
       "      <td>43039 Riley Greens Suite 393</td>\n",
       "      <td>Orient</td>\n",
       "      <td>...</td>\n",
       "      <td>99160</td>\n",
       "      <td>48.8878</td>\n",
       "      <td>-118.2105</td>\n",
       "      <td>149</td>\n",
       "      <td>Special educational needs teacher</td>\n",
       "      <td>1978-06-21</td>\n",
       "      <td>1f76529f8574734946361c461b024d99</td>\n",
       "      <td>1325376044</td>\n",
       "      <td>49.159047</td>\n",
       "      <td>-118.186462</td>\n",
       "    </tr>\n",
       "  </tbody>\n",
       "</table>\n",
       "<p>2 rows × 21 columns</p>\n",
       "</div>"
      ],
      "text/plain": [
       "  trans_date_trans_time            cc_num                         merchant  \\\n",
       "0   2019-01-01 00:00:18  2703186189652095       fraud_Rippin, Kub and Mann   \n",
       "1   2019-01-01 00:00:44      630423337322  fraud_Heller, Gutmann and Zieme   \n",
       "\n",
       "      category     amt      first   last gender                        street  \\\n",
       "0     misc_net    4.97   Jennifer  Banks      F                561 Perry Cove   \n",
       "1  grocery_pos  107.23  Stephanie   Gill      F  43039 Riley Greens Suite 393   \n",
       "\n",
       "             city  ...    zip      lat      long  city_pop  \\\n",
       "0  Moravian Falls  ...  28654  36.0788  -81.1781      3495   \n",
       "1          Orient  ...  99160  48.8878 -118.2105       149   \n",
       "\n",
       "                                 job         dob  \\\n",
       "0          Psychologist, counselling  1988-03-09   \n",
       "1  Special educational needs teacher  1978-06-21   \n",
       "\n",
       "                          trans_num   unix_time  merch_lat  merch_long  \n",
       "0  0b242abb623afc578575680df30655b9  1325376018  36.011293  -82.048315  \n",
       "1  1f76529f8574734946361c461b024d99  1325376044  49.159047 -118.186462  \n",
       "\n",
       "[2 rows x 21 columns]"
      ]
     },
     "execution_count": 15,
     "metadata": {},
     "output_type": "execute_result"
    }
   ],
   "source": [
    "#Display x values\n",
    "x.head(2)"
   ]
  },
  {
   "cell_type": "code",
   "execution_count": 16,
   "id": "municipal-workstation",
   "metadata": {},
   "outputs": [
    {
     "data": {
      "text/plain": [
       "0    0\n",
       "1    0\n",
       "2    0\n",
       "3    0\n",
       "4    0\n",
       "Name: is_fraud, dtype: int64"
      ]
     },
     "execution_count": 16,
     "metadata": {},
     "output_type": "execute_result"
    }
   ],
   "source": [
    "#Display y values\n",
    "y.head()"
   ]
  },
  {
   "cell_type": "markdown",
   "id": "martial-phone",
   "metadata": {},
   "source": [
    "# Feature Selection\n",
    "Lets perform on manual feature selection using pearson correlation. With pearson correlation, we can remove all any feature that is highly correlated to other features. We have to remove them because, they both serve the smae purpose during model training hence they will slow down our trainning of our model. Before we get started, let's first virsualize our higly correlated features using heatmap."
   ]
  },
  {
   "cell_type": "code",
   "execution_count": 17,
   "id": "affiliated-laptop",
   "metadata": {
    "scrolled": true
   },
   "outputs": [
    {
     "data": {
      "image/png": "[encoded data removed]",
      "text/plain": [
       "<Figure size 1080x360 with 2 Axes>"
      ]
     },
     "metadata": {
      "needs_background": "light"
     },
     "output_type": "display_data"
    }
   ],
   "source": [
    "#Lets check our dataset to see if they are highly correlated\n",
    "plt.figure(figsize=(15,5))\n",
    "sns.heatmap(x.corr(), annot=True, linewidths=2)\n",
    "plt.show()"
   ]
  },
  {
   "cell_type": "code",
   "execution_count": 18,
   "id": "informed-backup",
   "metadata": {},
   "outputs": [],
   "source": [
    "#Lets drop all higly correlated features from our datasets\n",
    "def high_correlated(datasets, threshold):\n",
    "    cor_col = set()\n",
    "    cor_mat = datasets.corr()\n",
    "    for i in range(len(cor_mat.columns)):\n",
    "        for j in range(i):\n",
    "            if abs(cor_mat.iloc[i, j]) > threshold:\n",
    "                colname = cor_mat.columns[i]\n",
    "                cor_col.add(colname)\n",
    "    return cor_col"
   ]
  },
  {
   "cell_type": "code",
   "execution_count": 19,
   "id": "modified-match",
   "metadata": {},
   "outputs": [
    {
     "data": {
      "text/plain": [
       "{'long', 'merch_lat', 'merch_long'}"
      ]
     },
     "execution_count": 19,
     "metadata": {},
     "output_type": "execute_result"
    }
   ],
   "source": [
    "#Call our function\n",
    "corr_features = high_correlated(x, 0.90)\n",
    "\n",
    "#Display results\n",
    "corr_features"
   ]
  },
  {
   "cell_type": "markdown",
   "id": "pharmaceutical-riverside",
   "metadata": {},
   "source": [
    "From the above we can see our list of highly correlated features. Now we can drop them to improve the accuracy of our model during trainning time."
   ]
  },
  {
   "cell_type": "code",
   "execution_count": 20,
   "id": "liberal-shark",
   "metadata": {},
   "outputs": [],
   "source": [
    "#Let's drop our highly correlated features now\n",
    "x.drop(corr_features, axis=1, inplace=True)"
   ]
  },
  {
   "cell_type": "code",
   "execution_count": 21,
   "id": "tropical-nickel",
   "metadata": {},
   "outputs": [
    {
     "data": {
      "text/plain": [
       "Index(['trans_date_trans_time', 'cc_num', 'merchant', 'category', 'amt',\n",
       "       'first', 'last', 'gender', 'street', 'city', 'state', 'zip', 'lat',\n",
       "       'city_pop', 'job', 'dob', 'trans_num', 'unix_time'],\n",
       "      dtype='object')"
      ]
     },
     "execution_count": 21,
     "metadata": {},
     "output_type": "execute_result"
    }
   ],
   "source": [
    "#display all columns to confirmed our deleted columns\n",
    "x.columns"
   ]
  },
  {
   "cell_type": "markdown",
   "id": "unlikely-mailing",
   "metadata": {},
   "source": [
    "From the above we can see that we have been able to remove all our highly correlated features. Let's re-draw our diagram do confirm our dropped columns."
   ]
  },
  {
   "cell_type": "code",
   "execution_count": 22,
   "id": "median-stress",
   "metadata": {},
   "outputs": [
    {
     "data": {
      "image/png": "[encoded data removed]",
      "text/plain": [
       "<Figure size 1080x360 with 2 Axes>"
      ]
     },
     "metadata": {
      "needs_background": "light"
     },
     "output_type": "display_data"
    }
   ],
   "source": [
    "#Lets check our dataset to see if they are highly correlated\n",
    "plt.figure(figsize=(15,5))\n",
    "sns.heatmap(x.corr(), annot=True, linewidths=2)\n",
    "plt.show()"
   ]
  },
  {
   "cell_type": "markdown",
   "id": "reserved-utility",
   "metadata": {},
   "source": [
    "From the graph also, we can see that there are no highly correlated features in our datasets. We will continue our feature selection using scikit learn pipelines."
   ]
  },
  {
   "cell_type": "markdown",
   "id": "generic-defense",
   "metadata": {},
   "source": [
    "# Feature Engineering, Feature Selection, Feature Scaling and Model Building.\n",
    "We are going to use scikit learn **ColumnTransformer** and **Pipeline** to perform our feature engineering, selection, scaling and building of our model.\n",
    "\n",
    "### Feature Engineering.\n",
    "There are many techniques to convert non numeric types to numeric. Some include LabelEncoder, OrdinalEncoder and OneHotEncoder. From scikit learn documentation:\n",
    "\n",
    "* LabelEncoder should be used on **target or dependent variable**.\n",
    "* OrdinalEncoder should be used on **independent variables** which are in orderly form.\n",
    "* OneHotEncoder is the main one to use if not the above. Note: But on **idenpendent variables**.\n",
    "\n",
    "So we are going to use **OneHotEncoder** to transform all non numeric features to numeric features.\n",
    "\n",
    "### Feature Selection.\n",
    "With feature selection, We are going to use **Filtering techniques** which include\n",
    "* Removing of constant features.\n",
    "* Removing of Quasi features.\n",
    "* Removing of duplicated features. \n",
    "\n",
    "We will be using all the above techniques except removing of duplicated features.\n",
    "\n",
    "### Model Building.\n",
    "We are going to build our model with five(5) different algorithms. After that we will select the one that performed well by meeting our evaluation stated above. The algorithms we are going to use include the following:\n",
    "* Linear Regression.\n",
    "* KNN.\n",
    "* Naive Bayes (GaussianNB).\n",
    "* Decision Tree Classifier.\n",
    "* Random Forest Classifier."
   ]
  },
  {
   "cell_type": "code",
   "execution_count": 23,
   "id": "honest-aviation",
   "metadata": {},
   "outputs": [
    {
     "data": {
      "text/plain": [
       "trans_date_trans_time     object\n",
       "cc_num                     int64\n",
       "merchant                  object\n",
       "category                  object\n",
       "amt                      float64\n",
       "first                     object\n",
       "last                      object\n",
       "gender                    object\n",
       "street                    object\n",
       "city                      object\n",
       "state                     object\n",
       "zip                        int64\n",
       "lat                      float64\n",
       "city_pop                   int64\n",
       "job                       object\n",
       "dob                       object\n",
       "trans_num                 object\n",
       "unix_time                  int64\n",
       "dtype: object"
      ]
     },
     "execution_count": 23,
     "metadata": {},
     "output_type": "execute_result"
    }
   ],
   "source": [
    "#display columns type\n",
    "x.dtypes"
   ]
  },
  {
   "cell_type": "code",
   "execution_count": 24,
   "id": "verbal-gauge",
   "metadata": {},
   "outputs": [
    {
     "name": "stdout",
     "output_type": "stream",
     "text": [
      "**Categorical features**\n",
      "\n",
      " ['trans_date_trans_time', 'merchant', 'category', 'first', 'last', 'gender', 'street', 'city', 'state', 'job', 'dob', 'trans_num']\n",
      "\n",
      "**Numerical features**\n",
      "\n",
      " ['cc_num', 'amt', 'zip', 'lat', 'city_pop', 'unix_time']\n"
     ]
    }
   ],
   "source": [
    "#split data into trainning and testing\n",
    "x_train, x_test, y_train, y_test = train_test_split(x, y, test_size=0.2, random_state=1, stratify=y)\n",
    "\n",
    "#Place all category and object features into cat_types variable\n",
    "cat_types = list(x_train.select_dtypes(include=[\"category\",\"object\"]))\n",
    "\n",
    "#Place all numeric features into num_type variable\n",
    "num_types = list(x_train.select_dtypes(exclude=[\"category\",\"object\"]))\n",
    "\n",
    "#Categorical features\n",
    "print(f\"**Categorical features**\\n\\n {cat_types}\")\n",
    "print(\"\")\n",
    "#Numeric features\n",
    "print(f\"**Numerical features**\\n\\n {num_types}\")"
   ]
  },
  {
   "cell_type": "markdown",
   "id": "collected-messaging",
   "metadata": {},
   "source": [
    "We are going to perform two(2) steps here. One is encoding our categorical features and the other is to scale our numeric features. Before we get started lets just create a simple function which we will use to evaluate our model after building it."
   ]
  },
  {
   "cell_type": "code",
   "execution_count": 25,
   "id": "colored-reset",
   "metadata": {},
   "outputs": [],
   "source": [
    "#Evaluation function\n",
    "def evaluate_model(y_test, y_pred):\n",
    "    \"\"\"\n",
    "    This function will evaluate our model\n",
    "    using precision, accuracy, recall, f1\n",
    "    ans confusion marixs\n",
    "    \"\"\"\n",
    "    \n",
    "    accuracy = accuracy_score(y_test, y_pred)\n",
    "    f1 = f1_score(y_test, y_pred)\n",
    "    precision = precision_score(y_test, y_pred)\n",
    "    recall = recall_score(y_test, y_pred)\n",
    "    \n",
    "    matrics = {\n",
    "        \"Accuracy Score\": round(accuracy,2),\n",
    "        \"f1 score\": round(f1,2),\n",
    "        \"Precision Score\": round(precision,2),\n",
    "        \"Recall Score\": round(recall,2)\n",
    "    }\n",
    "    \n",
    "    print(f\"The accuracy score is {accuracy*100:.2f}%\")\n",
    "    print(f\"The f1 score is {f1*100:.2f}%\")\n",
    "    print(f\"The precision score is {precision*100:.2f}%\")\n",
    "    print(f\"The recall score is {recall*100:.2f}%\")\n",
    "    \n",
    "    return matrics\n"
   ]
  },
  {
   "cell_type": "code",
   "execution_count": 26,
   "id": "tracked-gallery",
   "metadata": {},
   "outputs": [],
   "source": [
    "#Make the transformation\n",
    "column_transform = ColumnTransformer([\n",
    "    (\"Step1: Encode-Categorical-Features\", #One hot encode categorical features\n",
    "     OneHotEncoder(sparse=False, handle_unknown='ignore'), \n",
    "    ['trans_date_trans_time',\n",
    "     'merchant',\n",
    "     'category',\n",
    "     'first',\n",
    "     'last',\n",
    "     'gender',\n",
    "     'street',\n",
    "     'city', \n",
    "     'state',\n",
    "     'job',\n",
    "     'dob',\n",
    "     'trans_num']),\n",
    "(\"Step2: Scale-Numeric-Features\", RobustScaler(), #Scale all numeric features\n",
    "     ['cc_num',\n",
    "      'amt',\n",
    "      'zip',\n",
    "      'lat',\n",
    "      'city_pop',\n",
    "      'unix_time']),\n",
    "], remainder=\"passthrough\")"
   ]
  },
  {
   "cell_type": "markdown",
   "id": "threatened-treasure",
   "metadata": {},
   "source": [
    "## 1. Logistice Regression"
   ]
  },
  {
   "cell_type": "code",
   "execution_count": 27,
   "id": "competent-interim",
   "metadata": {},
   "outputs": [],
   "source": [
    "#Pipeline using Logistic Regression Algorithm\n",
    "log_pip = Pipeline([\n",
    "    (\"Step1: Logistic-ColumnTransformer\", column_transform),\n",
    "    (\"Step2: Remove-Constant-Features\", VarianceThreshold(threshold=0)), #Remove constant features\n",
    "    (\"Step3: Remove-Quasi-Features\", VarianceThreshold(threshold=0.01)), #Remove Quasi features\n",
    "    (\"Step4: Logistic-Regression\", LogisticRegression(max_iter=1000)) #Increase the max_iter\n",
    "])\n",
    "np.random.seed(42)"
   ]
  },
  {
   "cell_type": "code",
   "execution_count": 28,
   "id": "secret-course",
   "metadata": {},
   "outputs": [
    {
     "data": {
      "text/plain": [
       "Pipeline(steps=[('Step1: Logistic-ColumnTransformer',\n",
       "                 ColumnTransformer(remainder='passthrough',\n",
       "                                   transformers=[('Step1: '\n",
       "                                                  'Encode-Categorical-Features',\n",
       "                                                  OneHotEncoder(handle_unknown='ignore',\n",
       "                                                                sparse=False),\n",
       "                                                  ['trans_date_trans_time',\n",
       "                                                   'merchant', 'category',\n",
       "                                                   'first', 'last', 'gender',\n",
       "                                                   'street', 'city', 'state',\n",
       "                                                   'job', 'dob', 'trans_num']),\n",
       "                                                 ('Step2: '\n",
       "                                                  'Scale-Numeric-Features',\n",
       "                                                  RobustScaler(),\n",
       "                                                  ['cc_num', 'amt', 'zip',\n",
       "                                                   'lat', 'city_pop',\n",
       "                                                   'unix_time'])])),\n",
       "                ('Step2: Remove-Constant-Features',\n",
       "                 VarianceThreshold(threshold=0)),\n",
       "                ('Step3: Remove-Quasi-Features',\n",
       "                 VarianceThreshold(threshold=0.01)),\n",
       "                ('Step4: Logistic-Regression',\n",
       "                 LogisticRegression(max_iter=1000))])"
      ]
     },
     "execution_count": 28,
     "metadata": {},
     "output_type": "execute_result"
    }
   ],
   "source": [
    "#Now fit our logistic regression model\n",
    "log_pip.fit(x_train, y_train)"
   ]
  },
  {
   "cell_type": "code",
   "execution_count": 29,
   "id": "defined-boulder",
   "metadata": {},
   "outputs": [
    {
     "data": {
      "text/plain": [
       "array([0, 0, 0, ..., 0, 0, 0])"
      ]
     },
     "execution_count": 29,
     "metadata": {},
     "output_type": "execute_result"
    }
   ],
   "source": [
    "#Now lets make our prediction using our linear model\n",
    "ypred_logistic = log_pip.predict(x_test)\n",
    "\n",
    "#Display result\n",
    "ypred_logistic"
   ]
  },
  {
   "cell_type": "code",
   "execution_count": 30,
   "id": "greater-hotel",
   "metadata": {},
   "outputs": [
    {
     "data": {
      "text/plain": [
       "0.9965"
      ]
     },
     "execution_count": 30,
     "metadata": {},
     "output_type": "execute_result"
    }
   ],
   "source": [
    "#Lets score our model\n",
    "log_pip.score(x_test, y_test)"
   ]
  },
  {
   "cell_type": "code",
   "execution_count": 31,
   "id": "straight-falls",
   "metadata": {},
   "outputs": [
    {
     "name": "stdout",
     "output_type": "stream",
     "text": [
      "The accuracy score is 99.65%\n",
      "The f1 score is 53.33%\n",
      "The precision score is 66.67%\n",
      "The recall score is 44.44%\n"
     ]
    },
    {
     "data": {
      "text/plain": [
       "{'Accuracy Score': 1.0,\n",
       " 'f1 score': 0.53,\n",
       " 'Precision Score': 0.67,\n",
       " 'Recall Score': 0.44}"
      ]
     },
     "execution_count": 31,
     "metadata": {},
     "output_type": "execute_result"
    }
   ],
   "source": [
    "#Call function to evaluate model\n",
    "logistic_evaluated = evaluate_model(y_test, ypred_logistic)\n",
    "\n",
    "#Display result\n",
    "logistic_evaluated"
   ]
  },
  {
   "cell_type": "code",
   "execution_count": 32,
   "id": "ranking-queue",
   "metadata": {},
   "outputs": [
    {
     "name": "stdout",
     "output_type": "stream",
     "text": [
      "Cross val score equals: 0.9955999999999999\n"
     ]
    }
   ],
   "source": [
    "#The cross validation score of logistic regression\n",
    "np.random.seed(42)\n",
    "print(f\"Cross val score equals: {np.mean(cross_val_score(log_pip, x, y, cv=5))}\")"
   ]
  },
  {
   "cell_type": "code",
   "execution_count": 33,
   "id": "coupled-livestock",
   "metadata": {},
   "outputs": [
    {
     "data": {
      "image/png": "[encoded data removed]",
      "text/plain": [
       "<Figure size 432x288 with 2 Axes>"
      ]
     },
     "metadata": {
      "needs_background": "light"
     },
     "output_type": "display_data"
    }
   ],
   "source": [
    "sns.heatmap(confusion_matrix(y_test, ypred_logistic), annot=True, fmt='g')\n",
    "plt.show()"
   ]
  },
  {
   "cell_type": "code",
   "execution_count": 34,
   "id": "fourth-child",
   "metadata": {},
   "outputs": [
    {
     "name": "stdout",
     "output_type": "stream",
     "text": [
      "              precision    recall  f1-score   support\n",
      "\n",
      "           0       1.00      1.00      1.00      1991\n",
      "           1       0.67      0.44      0.53         9\n",
      "\n",
      "    accuracy                           1.00      2000\n",
      "   macro avg       0.83      0.72      0.77      2000\n",
      "weighted avg       1.00      1.00      1.00      2000\n",
      "\n"
     ]
    }
   ],
   "source": [
    "print(classification_report(y_test, ypred_logistic))"
   ]
  },
  {
   "cell_type": "markdown",
   "id": "editorial-abortion",
   "metadata": {},
   "source": [
    "## Conclusion:\n",
    "With our logistic regression, we are getting an:\n",
    "\n",
    "* An accuracy score of **1**\n",
    "* A precision score of **0.71**\n",
    "* A recall score of **0.56** and\n",
    "* An f1 score of **63**.\n",
    "\n",
    "Even though we have achieved 100% accuracy score, our Evaluation from above needs a precision, recall and f1 score of 80%. Hence we wont be using this model in production. Let's try our hands on other algorithms to. Moving on to KNeighborsClassifier."
   ]
  },
  {
   "cell_type": "markdown",
   "id": "loose-sussex",
   "metadata": {},
   "source": [
    "## 2. KNeighborsClassifier"
   ]
  },
  {
   "cell_type": "code",
   "execution_count": 35,
   "id": "premium-sweet",
   "metadata": {},
   "outputs": [],
   "source": [
    "#Pipeline using KNeighbors Classifier Algorithm\n",
    "knn_pip = Pipeline([\n",
    "    (\"Step1: Logistic-ColumnTransformer\", column_transform),\n",
    "    (\"Step2: Remove-Constant-Features\", VarianceThreshold(threshold=0)), #Remove Constant\n",
    "    (\"Step3: Remove-Quasi-Features\", VarianceThreshold(threshold=0.01)), #Remove Quasi\n",
    "    (\"Step4: Logistic-Regression\", KNeighborsClassifier())\n",
    "])"
   ]
  },
  {
   "cell_type": "code",
   "execution_count": 36,
   "id": "going-graph",
   "metadata": {},
   "outputs": [
    {
     "data": {
      "text/plain": [
       "Pipeline(steps=[('Step1: Logistic-ColumnTransformer',\n",
       "                 ColumnTransformer(remainder='passthrough',\n",
       "                                   transformers=[('Step1: '\n",
       "                                                  'Encode-Categorical-Features',\n",
       "                                                  OneHotEncoder(handle_unknown='ignore',\n",
       "                                                                sparse=False),\n",
       "                                                  ['trans_date_trans_time',\n",
       "                                                   'merchant', 'category',\n",
       "                                                   'first', 'last', 'gender',\n",
       "                                                   'street', 'city', 'state',\n",
       "                                                   'job', 'dob', 'trans_num']),\n",
       "                                                 ('Step2: '\n",
       "                                                  'Scale-Numeric-Features',\n",
       "                                                  RobustScaler(),\n",
       "                                                  ['cc_num', 'amt', 'zip',\n",
       "                                                   'lat', 'city_pop',\n",
       "                                                   'unix_time'])])),\n",
       "                ('Step2: Remove-Constant-Features',\n",
       "                 VarianceThreshold(threshold=0)),\n",
       "                ('Step3: Remove-Quasi-Features',\n",
       "                 VarianceThreshold(threshold=0.01)),\n",
       "                ('Step4: Logistic-Regression', KNeighborsClassifier())])"
      ]
     },
     "execution_count": 36,
     "metadata": {},
     "output_type": "execute_result"
    }
   ],
   "source": [
    "knn_pip.fit(x_train, y_train)"
   ]
  },
  {
   "cell_type": "code",
   "execution_count": 37,
   "id": "bridal-aggregate",
   "metadata": {},
   "outputs": [
    {
     "data": {
      "text/plain": [
       "array([0, 0, 0, ..., 0, 0, 0])"
      ]
     },
     "execution_count": 37,
     "metadata": {},
     "output_type": "execute_result"
    }
   ],
   "source": [
    "#Now lets make our prediction using our linear model\n",
    "ypred_knn = knn_pip.predict(x_test)\n",
    "\n",
    "#Display result\n",
    "ypred_knn"
   ]
  },
  {
   "cell_type": "code",
   "execution_count": 38,
   "id": "consecutive-seller",
   "metadata": {},
   "outputs": [
    {
     "data": {
      "text/plain": [
       "0.9965"
      ]
     },
     "execution_count": 38,
     "metadata": {},
     "output_type": "execute_result"
    }
   ],
   "source": [
    "#Lets score our model\n",
    "log_pip.score(x_test, y_test)"
   ]
  },
  {
   "cell_type": "code",
   "execution_count": 39,
   "id": "extreme-dairy",
   "metadata": {},
   "outputs": [
    {
     "name": "stdout",
     "output_type": "stream",
     "text": [
      "The accuracy score is 99.75%\n",
      "The f1 score is 73.68%\n",
      "The precision score is 70.00%\n",
      "The recall score is 77.78%\n"
     ]
    },
    {
     "data": {
      "text/plain": [
       "{'Accuracy Score': 1.0,\n",
       " 'f1 score': 0.74,\n",
       " 'Precision Score': 0.7,\n",
       " 'Recall Score': 0.78}"
      ]
     },
     "execution_count": 39,
     "metadata": {},
     "output_type": "execute_result"
    }
   ],
   "source": [
    "#Call function to evaluate model\n",
    "knn_evaluated = evaluate_model(y_test, ypred_knn)\n",
    "\n",
    "#Display result\n",
    "knn_evaluated"
   ]
  },
  {
   "cell_type": "code",
   "execution_count": 40,
   "id": "romance-ladder",
   "metadata": {},
   "outputs": [
    {
     "name": "stdout",
     "output_type": "stream",
     "text": [
      "Cross val score equals: 0.9953\n"
     ]
    }
   ],
   "source": [
    "#The cross validation score of logistic regression\n",
    "print(f\"Cross val score equals: {np.mean(cross_val_score(knn_pip, x, y, cv=5))}\")"
   ]
  },
  {
   "cell_type": "code",
   "execution_count": 41,
   "id": "infrared-glossary",
   "metadata": {},
   "outputs": [
    {
     "data": {
      "image/png": "[encoded data removed]",
      "text/plain": [
       "<Figure size 432x288 with 2 Axes>"
      ]
     },
     "metadata": {
      "needs_background": "light"
     },
     "output_type": "display_data"
    }
   ],
   "source": [
    "sns.heatmap(confusion_matrix(y_test, ypred_knn), annot=True, fmt='g')\n",
    "plt.show()"
   ]
  },
  {
   "cell_type": "code",
   "execution_count": 42,
   "id": "coastal-nerve",
   "metadata": {},
   "outputs": [
    {
     "name": "stdout",
     "output_type": "stream",
     "text": [
      "              precision    recall  f1-score   support\n",
      "\n",
      "           0       1.00      1.00      1.00      1991\n",
      "           1       0.70      0.78      0.74         9\n",
      "\n",
      "    accuracy                           1.00      2000\n",
      "   macro avg       0.85      0.89      0.87      2000\n",
      "weighted avg       1.00      1.00      1.00      2000\n",
      "\n"
     ]
    }
   ],
   "source": [
    "print(classification_report(y_test, ypred_knn))"
   ]
  },
  {
   "cell_type": "markdown",
   "id": "muslim-palmer",
   "metadata": {},
   "source": [
    "## Conclusion:\n",
    "With our KNeighborsClassifier(KNN), we are getting an:\n",
    "\n",
    "* An accuracy score of **1**\n",
    "* A precision score of **0.6**\n",
    "* A recall score of **0.67** and\n",
    "* An f1 score of **63**.\n",
    "\n",
    "Even though we achieved 100% accuracy score, our Evaluation from above needs a precision, recall and f1 score of 80%, hence we wont be using this model in production. Let's try our hands on Naive Bayes algorithms."
   ]
  },
  {
   "cell_type": "markdown",
   "id": "linear-county",
   "metadata": {},
   "source": [
    "## 3. GaussianNB or Naive Bayes"
   ]
  },
  {
   "cell_type": "code",
   "execution_count": 43,
   "id": "suited-statistics",
   "metadata": {},
   "outputs": [],
   "source": [
    "#Pipeline using Naive Bayes Algorithm\n",
    "nb_pip = Pipeline([\n",
    "    (\"Step1: Logistic-ColumnTransformer\", column_transform),\n",
    "    (\"Step2: Remove-Constant-Features\", VarianceThreshold(threshold=0)), #Remove Constant\n",
    "    (\"Step3: Remove-Quasi-Features\", VarianceThreshold(threshold=0.01)), #Remove Quasi\n",
    "    (\"Step4: Logistic-Regression\", GaussianNB())\n",
    "])"
   ]
  },
  {
   "cell_type": "code",
   "execution_count": 44,
   "id": "built-southeast",
   "metadata": {},
   "outputs": [
    {
     "data": {
      "text/plain": [
       "Pipeline(steps=[('Step1: Logistic-ColumnTransformer',\n",
       "                 ColumnTransformer(remainder='passthrough',\n",
       "                                   transformers=[('Step1: '\n",
       "                                                  'Encode-Categorical-Features',\n",
       "                                                  OneHotEncoder(handle_unknown='ignore',\n",
       "                                                                sparse=False),\n",
       "                                                  ['trans_date_trans_time',\n",
       "                                                   'merchant', 'category',\n",
       "                                                   'first', 'last', 'gender',\n",
       "                                                   'street', 'city', 'state',\n",
       "                                                   'job', 'dob', 'trans_num']),\n",
       "                                                 ('Step2: '\n",
       "                                                  'Scale-Numeric-Features',\n",
       "                                                  RobustScaler(),\n",
       "                                                  ['cc_num', 'amt', 'zip',\n",
       "                                                   'lat', 'city_pop',\n",
       "                                                   'unix_time'])])),\n",
       "                ('Step2: Remove-Constant-Features',\n",
       "                 VarianceThreshold(threshold=0)),\n",
       "                ('Step3: Remove-Quasi-Features',\n",
       "                 VarianceThreshold(threshold=0.01)),\n",
       "                ('Step4: Logistic-Regression', GaussianNB())])"
      ]
     },
     "execution_count": 44,
     "metadata": {},
     "output_type": "execute_result"
    }
   ],
   "source": [
    "nb_pip.fit(x_train, y_train)"
   ]
  },
  {
   "cell_type": "code",
   "execution_count": 45,
   "id": "automotive-dividend",
   "metadata": {},
   "outputs": [
    {
     "data": {
      "text/plain": [
       "array([1, 1, 0, ..., 0, 0, 0])"
      ]
     },
     "execution_count": 45,
     "metadata": {},
     "output_type": "execute_result"
    }
   ],
   "source": [
    "#Now lets make our prediction using our linear model\n",
    "ypred_nb = nb_pip.predict(x_test)\n",
    "\n",
    "#Display result\n",
    "ypred_nb"
   ]
  },
  {
   "cell_type": "code",
   "execution_count": 46,
   "id": "hired-scheme",
   "metadata": {},
   "outputs": [
    {
     "data": {
      "text/plain": [
       "0.905"
      ]
     },
     "execution_count": 46,
     "metadata": {},
     "output_type": "execute_result"
    }
   ],
   "source": [
    "#Lets score our model\n",
    "nb_pip.score(x_test, y_test)"
   ]
  },
  {
   "cell_type": "code",
   "execution_count": 47,
   "id": "turkish-jacksonville",
   "metadata": {},
   "outputs": [
    {
     "name": "stdout",
     "output_type": "stream",
     "text": [
      "The accuracy score is 90.50%\n",
      "The f1 score is 6.86%\n",
      "The precision score is 3.59%\n",
      "The recall score is 77.78%\n"
     ]
    },
    {
     "data": {
      "text/plain": [
       "{'Accuracy Score': 0.9,\n",
       " 'f1 score': 0.07,\n",
       " 'Precision Score': 0.04,\n",
       " 'Recall Score': 0.78}"
      ]
     },
     "execution_count": 47,
     "metadata": {},
     "output_type": "execute_result"
    }
   ],
   "source": [
    "#Call function to evaluate model\n",
    "nb_evaluated = evaluate_model(y_test, ypred_nb)\n",
    "\n",
    "#Display result\n",
    "nb_evaluated"
   ]
  },
  {
   "cell_type": "code",
   "execution_count": 48,
   "id": "fitted-doubt",
   "metadata": {},
   "outputs": [
    {
     "name": "stdout",
     "output_type": "stream",
     "text": [
      "Cross val score equals: 0.8912000000000001\n"
     ]
    }
   ],
   "source": [
    "#The cross validation score of Naive Bayes\n",
    "print(f\"Cross val score equals: {np.mean(cross_val_score(nb_pip, x, y, cv=5))}\")"
   ]
  },
  {
   "cell_type": "code",
   "execution_count": 49,
   "id": "bulgarian-verse",
   "metadata": {},
   "outputs": [
    {
     "data": {
      "image/png": "[encoded data removed]",
      "text/plain": [
       "<Figure size 432x288 with 2 Axes>"
      ]
     },
     "metadata": {
      "needs_background": "light"
     },
     "output_type": "display_data"
    }
   ],
   "source": [
    "sns.heatmap(confusion_matrix(y_test, ypred_nb), annot=True, fmt='g')\n",
    "plt.show()"
   ]
  },
  {
   "cell_type": "code",
   "execution_count": 50,
   "id": "native-miracle",
   "metadata": {},
   "outputs": [
    {
     "name": "stdout",
     "output_type": "stream",
     "text": [
      "              precision    recall  f1-score   support\n",
      "\n",
      "           0       1.00      0.91      0.95      1991\n",
      "           1       0.04      0.78      0.07         9\n",
      "\n",
      "    accuracy                           0.91      2000\n",
      "   macro avg       0.52      0.84      0.51      2000\n",
      "weighted avg       0.99      0.91      0.95      2000\n",
      "\n"
     ]
    }
   ],
   "source": [
    "print(classification_report(y_test, ypred_nb))"
   ]
  },
  {
   "cell_type": "markdown",
   "id": "headed-addition",
   "metadata": {},
   "source": [
    "## Conclusion:\n",
    "With our Naive Bayes, we are getting:\n",
    "\n",
    "* An accuracy score of 0.90.\n",
    "* A precision score of 0.4.\n",
    "* A recall score of 0.78.\n",
    "* An f1 score of 0.07.\n",
    "\n",
    "Even though we achieved 90% accuracy score, our Evaluation from above needs a precision, recall and f1 score of 80% and we have not yet reached our target, we wont be using this model in production. Let's try our hands on Random Forest Classifier.\n",
    "\n",
    "## Note:\n",
    "From all the above models built using other algorithms, we can still improve uporn it by increasing its hyperparameters using **RandomizedSearchCV** and **GridSearchCV**."
   ]
  },
  {
   "cell_type": "markdown",
   "id": "defined-literacy",
   "metadata": {},
   "source": [
    "## 4. Random Forest Classifier"
   ]
  },
  {
   "cell_type": "code",
   "execution_count": 51,
   "id": "assured-triangle",
   "metadata": {},
   "outputs": [],
   "source": [
    "#Pipeline using Random Forest Classifier Algorithm\n",
    "rfc_pip = Pipeline([\n",
    "    (\"Step1: Logistic-ColumnTransformer\", column_transform),\n",
    "    (\"Step2: Remove-Constant-Features\", VarianceThreshold(threshold=0)),#Remove constant\n",
    "    (\"Step3: Remove-Quasi-Features\", VarianceThreshold(threshold=0.01)),#Remove Quasi\n",
    "    (\"Step4: Logistic-Regression\", RandomForestClassifier())\n",
    "])"
   ]
  },
  {
   "cell_type": "code",
   "execution_count": 52,
   "id": "unlike-fishing",
   "metadata": {},
   "outputs": [
    {
     "data": {
      "text/plain": [
       "Pipeline(steps=[('Step1: Logistic-ColumnTransformer',\n",
       "                 ColumnTransformer(remainder='passthrough',\n",
       "                                   transformers=[('Step1: '\n",
       "                                                  'Encode-Categorical-Features',\n",
       "                                                  OneHotEncoder(handle_unknown='ignore',\n",
       "                                                                sparse=False),\n",
       "                                                  ['trans_date_trans_time',\n",
       "                                                   'merchant', 'category',\n",
       "                                                   'first', 'last', 'gender',\n",
       "                                                   'street', 'city', 'state',\n",
       "                                                   'job', 'dob', 'trans_num']),\n",
       "                                                 ('Step2: '\n",
       "                                                  'Scale-Numeric-Features',\n",
       "                                                  RobustScaler(),\n",
       "                                                  ['cc_num', 'amt', 'zip',\n",
       "                                                   'lat', 'city_pop',\n",
       "                                                   'unix_time'])])),\n",
       "                ('Step2: Remove-Constant-Features',\n",
       "                 VarianceThreshold(threshold=0)),\n",
       "                ('Step3: Remove-Quasi-Features',\n",
       "                 VarianceThreshold(threshold=0.01)),\n",
       "                ('Step4: Logistic-Regression', RandomForestClassifier())])"
      ]
     },
     "execution_count": 52,
     "metadata": {},
     "output_type": "execute_result"
    }
   ],
   "source": [
    "rfc_pip.fit(x_train, y_train)"
   ]
  },
  {
   "cell_type": "code",
   "execution_count": 53,
   "id": "automotive-repository",
   "metadata": {},
   "outputs": [
    {
     "data": {
      "text/plain": [
       "array([0, 0, 0, ..., 0, 0, 0])"
      ]
     },
     "execution_count": 53,
     "metadata": {},
     "output_type": "execute_result"
    }
   ],
   "source": [
    "#Initialize prediction\n",
    "rfc_nb = rfc_pip.predict(x_test)\n",
    "\n",
    "#Display results\n",
    "rfc_nb"
   ]
  },
  {
   "cell_type": "code",
   "execution_count": 54,
   "id": "olive-hunger",
   "metadata": {},
   "outputs": [
    {
     "data": {
      "text/plain": [
       "0.9985"
      ]
     },
     "execution_count": 54,
     "metadata": {},
     "output_type": "execute_result"
    }
   ],
   "source": [
    "#Lets score our model\n",
    "rfc_pip.score(x_test, y_test)"
   ]
  },
  {
   "cell_type": "code",
   "execution_count": 55,
   "id": "subsequent-armor",
   "metadata": {},
   "outputs": [
    {
     "name": "stdout",
     "output_type": "stream",
     "text": [
      "The accuracy score is 99.85%\n",
      "The f1 score is 82.35%\n",
      "The precision score is 87.50%\n",
      "The recall score is 77.78%\n"
     ]
    },
    {
     "data": {
      "text/plain": [
       "{'Accuracy Score': 1.0,\n",
       " 'f1 score': 0.82,\n",
       " 'Precision Score': 0.88,\n",
       " 'Recall Score': 0.78}"
      ]
     },
     "execution_count": 55,
     "metadata": {},
     "output_type": "execute_result"
    }
   ],
   "source": [
    "#Call function to evaluate model\n",
    "rfc_evaluated = evaluate_model(y_test, rfc_nb)\n",
    "\n",
    "#Display result\n",
    "rfc_evaluated"
   ]
  },
  {
   "cell_type": "code",
   "execution_count": 56,
   "id": "generous-excellence",
   "metadata": {},
   "outputs": [
    {
     "name": "stdout",
     "output_type": "stream",
     "text": [
      "Cross val score equals: 0.9981\n"
     ]
    }
   ],
   "source": [
    "#Random forest classifier cross val score\n",
    "print(f\"Cross val score equals: {np.mean(cross_val_score(rfc_pip, x, y, cv=5))}\")"
   ]
  },
  {
   "cell_type": "code",
   "execution_count": 57,
   "id": "annual-belize",
   "metadata": {},
   "outputs": [
    {
     "data": {
      "image/png": "[encoded data removed]",
      "text/plain": [
       "<Figure size 432x288 with 2 Axes>"
      ]
     },
     "metadata": {
      "needs_background": "light"
     },
     "output_type": "display_data"
    }
   ],
   "source": [
    "sns.heatmap(confusion_matrix(y_test, rfc_nb), annot=True, fmt='g')\n",
    "plt.show()"
   ]
  },
  {
   "cell_type": "code",
   "execution_count": 58,
   "id": "critical-habitat",
   "metadata": {},
   "outputs": [
    {
     "name": "stdout",
     "output_type": "stream",
     "text": [
      "              precision    recall  f1-score   support\n",
      "\n",
      "           0       1.00      1.00      1.00      1991\n",
      "           1       0.88      0.78      0.82         9\n",
      "\n",
      "    accuracy                           1.00      2000\n",
      "   macro avg       0.94      0.89      0.91      2000\n",
      "weighted avg       1.00      1.00      1.00      2000\n",
      "\n"
     ]
    }
   ],
   "source": [
    "print(classification_report(y_test, rfc_nb))"
   ]
  },
  {
   "cell_type": "markdown",
   "id": "realistic-perry",
   "metadata": {},
   "source": [
    "# Conclusion:\n",
    "With our Random Forest, we are getting:\n",
    "\n",
    "* An accuracy score of 1.\n",
    "* A precision score of 0.88.\n",
    "* A recall score of 0.78.\n",
    "* An f1 score of 0.82.\n",
    "\n",
    "!Well, we have reached our target from our Evaluation. Even though our recall score is 78, we can use this model in production. But since we descided to use five(5) different algorithms, let's try our hands on the last one which is decision tree classifier."
   ]
  },
  {
   "cell_type": "markdown",
   "id": "excessive-theme",
   "metadata": {},
   "source": [
    "## 5. Decision Tree Classifier"
   ]
  },
  {
   "cell_type": "code",
   "execution_count": 59,
   "id": "caroline-payment",
   "metadata": {},
   "outputs": [],
   "source": [
    "#Pipeline using Decision Tree Algorithm\n",
    "dt_pip = Pipeline([\n",
    "    (\"Step1: Logistic-ColumnTransformer\", column_transform),\n",
    "    (\"Step2: Remove-Constant-Features\", VarianceThreshold(threshold=0)), #Remove Constant\n",
    "    (\"Step3: Remove-Quasi-Features\", VarianceThreshold(threshold=0.01)), #Remove Quasi\n",
    "    (\"Step4: Logistic-Regression\", DecisionTreeClassifier())\n",
    "])"
   ]
  },
  {
   "cell_type": "code",
   "execution_count": 60,
   "id": "novel-italian",
   "metadata": {},
   "outputs": [
    {
     "data": {
      "text/plain": [
       "Pipeline(steps=[('Step1: Logistic-ColumnTransformer',\n",
       "                 ColumnTransformer(remainder='passthrough',\n",
       "                                   transformers=[('Step1: '\n",
       "                                                  'Encode-Categorical-Features',\n",
       "                                                  OneHotEncoder(handle_unknown='ignore',\n",
       "                                                                sparse=False),\n",
       "                                                  ['trans_date_trans_time',\n",
       "                                                   'merchant', 'category',\n",
       "                                                   'first', 'last', 'gender',\n",
       "                                                   'street', 'city', 'state',\n",
       "                                                   'job', 'dob', 'trans_num']),\n",
       "                                                 ('Step2: '\n",
       "                                                  'Scale-Numeric-Features',\n",
       "                                                  RobustScaler(),\n",
       "                                                  ['cc_num', 'amt', 'zip',\n",
       "                                                   'lat', 'city_pop',\n",
       "                                                   'unix_time'])])),\n",
       "                ('Step2: Remove-Constant-Features',\n",
       "                 VarianceThreshold(threshold=0)),\n",
       "                ('Step3: Remove-Quasi-Features',\n",
       "                 VarianceThreshold(threshold=0.01)),\n",
       "                ('Step4: Logistic-Regression', DecisionTreeClassifier())])"
      ]
     },
     "execution_count": 60,
     "metadata": {},
     "output_type": "execute_result"
    }
   ],
   "source": [
    "#Fit model\n",
    "dt_pip.fit(x_train, y_train)"
   ]
  },
  {
   "cell_type": "code",
   "execution_count": 61,
   "id": "medium-peter",
   "metadata": {},
   "outputs": [
    {
     "data": {
      "text/plain": [
       "array([0, 0, 0, ..., 0, 0, 0])"
      ]
     },
     "execution_count": 61,
     "metadata": {},
     "output_type": "execute_result"
    }
   ],
   "source": [
    "#Initialize prediction\n",
    "dt_ypred = dt_pip.predict(x_test)\n",
    "\n",
    "#Display results\n",
    "dt_ypred"
   ]
  },
  {
   "cell_type": "code",
   "execution_count": 62,
   "id": "intimate-planner",
   "metadata": {},
   "outputs": [
    {
     "data": {
      "text/plain": [
       "0.9995"
      ]
     },
     "execution_count": 62,
     "metadata": {},
     "output_type": "execute_result"
    }
   ],
   "source": [
    "#Lets score our model\n",
    "dt_pip.score(x_test, y_test)"
   ]
  },
  {
   "cell_type": "code",
   "execution_count": 63,
   "id": "hawaiian-transsexual",
   "metadata": {},
   "outputs": [
    {
     "name": "stdout",
     "output_type": "stream",
     "text": [
      "The accuracy score is 99.95%\n",
      "The f1 score is 94.74%\n",
      "The precision score is 90.00%\n",
      "The recall score is 100.00%\n"
     ]
    },
    {
     "data": {
      "text/plain": [
       "{'Accuracy Score': 1.0,\n",
       " 'f1 score': 0.95,\n",
       " 'Precision Score': 0.9,\n",
       " 'Recall Score': 1.0}"
      ]
     },
     "execution_count": 63,
     "metadata": {},
     "output_type": "execute_result"
    }
   ],
   "source": [
    "#Call function to evaluate model\n",
    "dt_evaluated = evaluate_model(y_test, dt_ypred)\n",
    "\n",
    "#Display result\n",
    "dt_evaluated"
   ]
  },
  {
   "cell_type": "code",
   "execution_count": 64,
   "id": "racial-progress",
   "metadata": {},
   "outputs": [
    {
     "name": "stdout",
     "output_type": "stream",
     "text": [
      "Cross val score equals: 0.9974000000000001\n"
     ]
    }
   ],
   "source": [
    "print(f\"Cross val score equals: {np.mean(cross_val_score(dt_pip, x, y, cv=5))}\")"
   ]
  },
  {
   "cell_type": "code",
   "execution_count": 65,
   "id": "working-utilization",
   "metadata": {},
   "outputs": [
    {
     "data": {
      "image/png": "[encoded data removed]",
      "text/plain": [
       "<Figure size 432x288 with 2 Axes>"
      ]
     },
     "metadata": {
      "needs_background": "light"
     },
     "output_type": "display_data"
    }
   ],
   "source": [
    "sns.heatmap(confusion_matrix(y_test, dt_ypred), annot=True, fmt='g')\n",
    "plt.show()"
   ]
  },
  {
   "cell_type": "code",
   "execution_count": 66,
   "id": "biological-monster",
   "metadata": {},
   "outputs": [
    {
     "name": "stdout",
     "output_type": "stream",
     "text": [
      "              precision    recall  f1-score   support\n",
      "\n",
      "           0       1.00      1.00      1.00      1991\n",
      "           1       0.90      1.00      0.95         9\n",
      "\n",
      "    accuracy                           1.00      2000\n",
      "   macro avg       0.95      1.00      0.97      2000\n",
      "weighted avg       1.00      1.00      1.00      2000\n",
      "\n"
     ]
    }
   ],
   "source": [
    "print(classification_report(y_test, dt_ypred))"
   ]
  },
  {
   "cell_type": "markdown",
   "id": "smoking-criminal",
   "metadata": {},
   "source": [
    "# Conclusion.\n",
    "With Decision Tree, we were able to score 1(100% score), having a good precision, recall and f1 score. Hence we can also use this model in production. We can still improve uporn it just like the rest of the algorithm. But since **DecisionTreeClassifier** give us a good:\n",
    "* Accuracy Score.\n",
    "* Recall Score.\n",
    "* F1 Score.\n",
    "* Precision score.<br><br>\n",
    "We will be using it in production.\n",
    "\n",
    "Now we have to choose between **RandomForestClassifier** and a **DecisionTreeClassifier**. Let's virsualize our models and decide on which algorithm to use between the two."
   ]
  },
  {
   "cell_type": "markdown",
   "id": "acceptable-imaging",
   "metadata": {},
   "source": [
    "## Now Lets place our results in a dataframe from all the algorithms"
   ]
  },
  {
   "cell_type": "code",
   "execution_count": 67,
   "id": "surrounded-boating",
   "metadata": {},
   "outputs": [
    {
     "data": {
      "text/html": [
       "<div>\n",
       "<style scoped>\n",
       "    .dataframe tbody tr th:only-of-type {\n",
       "        vertical-align: middle;\n",
       "    }\n",
       "\n",
       "    .dataframe tbody tr th {\n",
       "        vertical-align: top;\n",
       "    }\n",
       "\n",
       "    .dataframe thead th {\n",
       "        text-align: right;\n",
       "    }\n",
       "</style>\n",
       "<table border=\"1\" class=\"dataframe\">\n",
       "  <thead>\n",
       "    <tr style=\"text-align: right;\">\n",
       "      <th></th>\n",
       "      <th>Logistice Regression</th>\n",
       "      <th>KNeighborsClassifier</th>\n",
       "      <th>Naiv Bayes</th>\n",
       "      <th>Decision Tree</th>\n",
       "      <th>Random Forest</th>\n",
       "    </tr>\n",
       "  </thead>\n",
       "  <tbody>\n",
       "    <tr>\n",
       "      <th>Accuracy Score</th>\n",
       "      <td>1.00</td>\n",
       "      <td>1.00</td>\n",
       "      <td>0.90</td>\n",
       "      <td>1.00</td>\n",
       "      <td>1.00</td>\n",
       "    </tr>\n",
       "    <tr>\n",
       "      <th>f1 score</th>\n",
       "      <td>0.53</td>\n",
       "      <td>0.74</td>\n",
       "      <td>0.07</td>\n",
       "      <td>0.95</td>\n",
       "      <td>0.82</td>\n",
       "    </tr>\n",
       "    <tr>\n",
       "      <th>Precision Score</th>\n",
       "      <td>0.67</td>\n",
       "      <td>0.70</td>\n",
       "      <td>0.04</td>\n",
       "      <td>0.90</td>\n",
       "      <td>0.88</td>\n",
       "    </tr>\n",
       "    <tr>\n",
       "      <th>Recall Score</th>\n",
       "      <td>0.44</td>\n",
       "      <td>0.78</td>\n",
       "      <td>0.78</td>\n",
       "      <td>1.00</td>\n",
       "      <td>0.78</td>\n",
       "    </tr>\n",
       "  </tbody>\n",
       "</table>\n",
       "</div>"
      ],
      "text/plain": [
       "                 Logistice Regression  KNeighborsClassifier  Naiv Bayes  \\\n",
       "Accuracy Score                   1.00                  1.00        0.90   \n",
       "f1 score                         0.53                  0.74        0.07   \n",
       "Precision Score                  0.67                  0.70        0.04   \n",
       "Recall Score                     0.44                  0.78        0.78   \n",
       "\n",
       "                 Decision Tree  Random Forest  \n",
       "Accuracy Score            1.00           1.00  \n",
       "f1 score                  0.95           0.82  \n",
       "Precision Score           0.90           0.88  \n",
       "Recall Score              1.00           0.78  "
      ]
     },
     "execution_count": 67,
     "metadata": {},
     "output_type": "execute_result"
    }
   ],
   "source": [
    "#Place out baseline prediction in a dataframe\n",
    "baseline_prediction = pd.DataFrame({\n",
    "    \"Logistice Regression\":logistic_evaluated,\n",
    "    \"KNeighborsClassifier\": knn_evaluated,\n",
    "    \"Naiv Bayes\": nb_evaluated,\n",
    "    \"Decision Tree\": dt_evaluated,\n",
    "    \"Random Forest\": rfc_evaluated\n",
    "})\n",
    "\n",
    "#Display results\n",
    "baseline_prediction"
   ]
  },
  {
   "cell_type": "code",
   "execution_count": 68,
   "id": "endless-watts",
   "metadata": {},
   "outputs": [
    {
     "data": {
      "image/png": "[encoded data removed]",
      "text/plain": [
       "<Figure size 432x288 with 1 Axes>"
      ]
     },
     "metadata": {
      "needs_background": "light"
     },
     "output_type": "display_data"
    }
   ],
   "source": [
    "#Lets visualize our baseline predictions\n",
    "baseline_prediction.T.plot(kind='bar')\n",
    "plt.show()"
   ]
  },
  {
   "cell_type": "markdown",
   "id": "prescription-merchant",
   "metadata": {},
   "source": [
    "Since we have decide to use the one built using RandomForestClassifier, lets explore it more. First let's try to find the **feature importance** from the model."
   ]
  },
  {
   "cell_type": "code",
   "execution_count": 69,
   "id": "apart-gender",
   "metadata": {},
   "outputs": [
    {
     "data": {
      "text/plain": [
       "Pipeline(steps=[('Step1: Logistic-ColumnTransformer',\n",
       "                 ColumnTransformer(remainder='passthrough',\n",
       "                                   transformers=[('Step1: '\n",
       "                                                  'Encode-Categorical-Features',\n",
       "                                                  OneHotEncoder(handle_unknown='ignore',\n",
       "                                                                sparse=False),\n",
       "                                                  ['trans_date_trans_time',\n",
       "                                                   'merchant', 'category',\n",
       "                                                   'first', 'last', 'gender',\n",
       "                                                   'street', 'city', 'state',\n",
       "                                                   'job', 'dob', 'trans_num']),\n",
       "                                                 ('Step2: '\n",
       "                                                  'Scale-Numeric-Features',\n",
       "                                                  RobustScaler(),\n",
       "                                                  ['cc_num', 'amt', 'zip',\n",
       "                                                   'lat', 'city_pop',\n",
       "                                                   'unix_time'])])),\n",
       "                ('Step2: Remove-Constant-Features',\n",
       "                 VarianceThreshold(threshold=0)),\n",
       "                ('Step3: Remove-Quasi-Features',\n",
       "                 VarianceThreshold(threshold=0.01)),\n",
       "                ('Step4: Logistic-Regression', RandomForestClassifier())])"
      ]
     },
     "execution_count": 69,
     "metadata": {},
     "output_type": "execute_result"
    }
   ],
   "source": [
    "#Display pipeline steps\n",
    "rfc_pip"
   ]
  },
  {
   "cell_type": "code",
   "execution_count": 70,
   "id": "raised-sponsorship",
   "metadata": {},
   "outputs": [
    {
     "data": {
      "text/plain": [
       "{'Step1: Logistic-ColumnTransformer': ColumnTransformer(remainder='passthrough',\n",
       "                   transformers=[('Step1: Encode-Categorical-Features',\n",
       "                                  OneHotEncoder(handle_unknown='ignore',\n",
       "                                                sparse=False),\n",
       "                                  ['trans_date_trans_time', 'merchant',\n",
       "                                   'category', 'first', 'last', 'gender',\n",
       "                                   'street', 'city', 'state', 'job', 'dob',\n",
       "                                   'trans_num']),\n",
       "                                 ('Step2: Scale-Numeric-Features',\n",
       "                                  RobustScaler(),\n",
       "                                  ['cc_num', 'amt', 'zip', 'lat', 'city_pop',\n",
       "                                   'unix_time'])]),\n",
       " 'Step2: Remove-Constant-Features': VarianceThreshold(threshold=0),\n",
       " 'Step3: Remove-Quasi-Features': VarianceThreshold(threshold=0.01),\n",
       " 'Step4: Logistic-Regression': RandomForestClassifier()}"
      ]
     },
     "execution_count": 70,
     "metadata": {},
     "output_type": "execute_result"
    }
   ],
   "source": [
    "#Display all name steps\n",
    "rfc_pip.named_steps"
   ]
  },
  {
   "cell_type": "code",
   "execution_count": 71,
   "id": "positive-lindsay",
   "metadata": {},
   "outputs": [
    {
     "data": {
      "text/plain": [
       "array([3.66381620e-03, 1.36361838e-03, 9.78780697e-03, 2.49513417e-03,\n",
       "       2.80182063e-02, 2.66554400e-03, 6.85020309e-03, 1.95971908e-03,\n",
       "       9.55751456e-03, 4.48722739e-03, 1.57918136e-03, 1.38080717e-02,\n",
       "       6.93248342e-03, 5.37776509e-03, 7.37873334e-05, 1.07793200e-04,\n",
       "       3.71821608e-05, 1.17063871e-03, 6.36861693e-04, 1.34948653e-03,\n",
       "       3.96621848e-06, 9.67330142e-06, 9.73589816e-06, 3.56543176e-04,\n",
       "       2.52609647e-06, 1.64221273e-05, 8.74600659e-05, 7.51621355e-07,\n",
       "       1.07540115e-04, 5.18048371e-06, 2.79333905e-04, 9.08694262e-05,\n",
       "       3.00672058e-06, 6.31820482e-05, 1.89640734e-05, 3.85494767e-04,\n",
       "       2.78751152e-05, 1.56250661e-02, 8.92418801e-03, 6.23065724e-04,\n",
       "       2.04742449e-06, 6.71926556e-04, 2.28951667e-04, 5.07512041e-04,\n",
       "       3.28980846e-06, 6.26162723e-06, 3.60450863e-05, 9.68316732e-05,\n",
       "       2.51541100e-05, 3.10043433e-04, 6.78994822e-06, 8.38978307e-04,\n",
       "       9.39360306e-06, 2.71724158e-03, 3.24836188e-06, 1.16973119e-02,\n",
       "       1.34534860e-05, 2.52735343e-05, 2.06488668e-02, 9.47817193e-06,\n",
       "       4.72594415e-04, 2.14529143e-06, 2.14732918e-03, 1.15294322e-04,\n",
       "       1.96010350e-04, 1.66896708e-04, 1.58273414e-02, 5.59643383e-06,\n",
       "       8.35760921e-04, 5.08180078e-03, 4.00462023e-06, 2.67485731e-04,\n",
       "       5.25107159e-06, 2.54096129e-04, 3.24855491e-04, 9.17075035e-02,\n",
       "       2.64489074e-01, 1.30382138e-01, 1.13744521e-01, 1.04155382e-01,\n",
       "       1.03393933e-01])"
      ]
     },
     "execution_count": 71,
     "metadata": {},
     "output_type": "execute_result"
    }
   ],
   "source": [
    "#Navigate to 'Step4: Logistic-Regression' and display feature importances\n",
    "rfc_pip.named_steps['Step4: Logistic-Regression'].feature_importances_"
   ]
  },
  {
   "cell_type": "code",
   "execution_count": 72,
   "id": "fifteen-shareware",
   "metadata": {},
   "outputs": [
    {
     "data": {
      "text/plain": [
       "array(['x0_2019-01-01 00:00:44', 'x0_2019-01-01 00:01:16',\n",
       "       'x0_2019-01-01 00:03:06', ...,\n",
       "       'x11_ffe44e74334a90c38bbbade939a3f651',\n",
       "       'x11_ffe59d13dcbf7e3a3dedf959d156204d',\n",
       "       'x11_ffea23eb0e94832b1ac22affb1a23d79'], dtype=object)"
      ]
     },
     "execution_count": 72,
     "metadata": {},
     "output_type": "execute_result"
    }
   ],
   "source": [
    "#Display feature names\n",
    "rfc_pip.named_steps['Step1: Logistic-ColumnTransformer'].named_transformers_['Step1: Encode-Categorical-Features'].get_feature_names()"
   ]
  },
  {
   "cell_type": "markdown",
   "id": "straight-strengthening",
   "metadata": {},
   "source": [
    "## Final Conclusion in choosing our algorithm.\n",
    "We have tried our hands on five(5) different algorithms which include:\n",
    "\n",
    "* Naive Bayes\n",
    "* Logistic Regression\n",
    "* KNN\n",
    "* RandomForestClassifier\n",
    "* DecisionTreeClassifier\n",
    "\n",
    "Now we have to decide on the algorithm that we will use in production. Since our model had a good accuracy score and precision, recall and f1 socre on **RandomForestClassifier** and **DecisionTreeClassifier** and also meets our evaluation, We will decide between this two.\n",
    "\n",
    "# Choosing our algorithm:\n",
    "We will be using RandomForestClassifier since it uses decision tree algorithm. So its like killing on two birds with one stone."
   ]
  },
  {
   "cell_type": "code",
   "execution_count": 80,
   "id": "industrial-caution",
   "metadata": {},
   "outputs": [],
   "source": [
    "#Export model using pickle\n",
    "pickle.dump(rfc_pip, open(\"randomForestClassifier.pkl\",\"wb\"))"
   ]
  },
  {
   "cell_type": "code",
   "execution_count": 82,
   "id": "passive-nepal",
   "metadata": {},
   "outputs": [
    {
     "data": {
      "text/plain": [
       "array([0, 0, 0, 0, 0, 0, 0, 0, 0, 0, 0, 0, 0, 0, 0, 0, 0, 0, 0, 0])"
      ]
     },
     "execution_count": 82,
     "metadata": {},
     "output_type": "execute_result"
    }
   ],
   "source": [
    "#Load dump data and test\n",
    "randomForest = pickle.load(open(\"randomForestClassifier.pkl\",\"rb\"))\n",
    "\n",
    "#Make prediction\n",
    "pred = randomForest.predict(x_test)\n",
    "\n",
    "#Display predicted values\n",
    "pred[:20]"
   ]
  },
  {
   "cell_type": "markdown",
   "id": "bizarre-diamond",
   "metadata": {},
   "source": [
    "Now we are done building our model using and choose RandomForestClassifier for our model. But we can still try our model with other Machine Learning Algorithms to get even more accurate score."
   ]
  },
  {
   "cell_type": "code",
   "execution_count": null,
   "id": "horizontal-morning",
   "metadata": {},
   "outputs": [],
   "source": []
  },
  {
   "cell_type": "code",
   "execution_count": null,
   "id": "headed-inspiration",
   "metadata": {},
   "outputs": [],
   "source": []
  },
  {
   "cell_type": "code",
   "execution_count": null,
   "id": "australian-montgomery",
   "metadata": {},
   "outputs": [],
   "source": []
  },
  {
   "cell_type": "code",
   "execution_count": null,
   "id": "inside-beauty",
   "metadata": {},
   "outputs": [],
   "source": []
  },
  {
   "cell_type": "code",
   "execution_count": null,
   "id": "strong-president",
   "metadata": {},
   "outputs": [],
   "source": []
  },
  {
   "cell_type": "code",
   "execution_count": null,
   "id": "presidential-sheriff",
   "metadata": {},
   "outputs": [],
   "source": []
  },
  {
   "cell_type": "code",
   "execution_count": null,
   "id": "peripheral-dietary",
   "metadata": {},
   "outputs": [],
   "source": []
  },
  {
   "cell_type": "code",
   "execution_count": null,
   "id": "utility-mailing",
   "metadata": {},
   "outputs": [],
   "source": []
  },
  {
   "cell_type": "code",
   "execution_count": null,
   "id": "adjusted-paintball",
   "metadata": {},
   "outputs": [],
   "source": []
  },
  {
   "cell_type": "code",
   "execution_count": null,
   "id": "governmental-atlas",
   "metadata": {},
   "outputs": [],
   "source": []
  },
  {
   "cell_type": "code",
   "execution_count": null,
   "id": "catholic-poison",
   "metadata": {},
   "outputs": [],
   "source": []
  },
  {
   "cell_type": "code",
   "execution_count": null,
   "id": "stuck-plane",
   "metadata": {},
   "outputs": [],
   "source": []
  }
 ],
 "metadata": {
  "kernelspec": {
   "display_name": "Python 3",
   "language": "python",
   "name": "python3"
  },
  "language_info": {
   "codemirror_mode": {
    "name": "ipython",
    "version": 3
   },
   "file_extension": ".py",
   "mimetype": "text/x-python",
   "name": "python",
   "nbconvert_exporter": "python",
   "pygments_lexer": "ipython3",
   "version": "3.8.5"
  }
 },
 "nbformat": 4,
 "nbformat_minor": 5
}
